{
 "cells": [
  {
   "cell_type": "markdown",
   "id": "77a946cf",
   "metadata": {},
   "source": [
    "# Airline Customer Satisfaction"
   ]
  },
  {
   "cell_type": "markdown",
   "id": "cf063bee",
   "metadata": {},
   "source": [
    "## Problem Statement\n",
    "### >This project aims at predicting customer satisfaction levels within an undisclosed airline company."
   ]
  },
  {
   "cell_type": "markdown",
   "id": "33b3cbf6",
   "metadata": {},
   "source": [
    "## Lifecycle of a ML project\n",
    "### 1.Data collection\n",
    "### 2.Data prepration\n",
    "### 3.Data cleansing\n",
    "### 4.Data exploration\n",
    "### 5.Data transformation and Feature engineering\n",
    "### 6.Model training\n",
    "### 7.Model hyperparameter tuning\n",
    "### 8.Model evaluation\n",
    "### 9.Model deloyment and maintainance"
   ]
  },
  {
   "cell_type": "markdown",
   "id": "718ad39a",
   "metadata": {},
   "source": [
    "### Importing necessary libraries"
   ]
  },
  {
   "cell_type": "code",
   "execution_count": 1,
   "id": "c7c15d71",
   "metadata": {},
   "outputs": [
    {
     "name": "stderr",
     "output_type": "stream",
     "text": [
      "C:\\Users\\odhia\\AppData\\Local\\anaconda3\\lib\\site-packages\\pandas\\core\\arrays\\masked.py:60: UserWarning: Pandas requires version '1.3.6' or newer of 'bottleneck' (version '1.3.5' currently installed).\n",
      "  from pandas.core import (\n"
     ]
    }
   ],
   "source": [
    "import pandas as pd\n",
    "import matplotlib.pyplot as plt\n",
    "import seaborn as sns\n",
    "import numpy as np"
   ]
  },
  {
   "cell_type": "markdown",
   "id": "87367c37",
   "metadata": {},
   "source": [
    "### Data collection"
   ]
  },
  {
   "cell_type": "code",
   "execution_count": 2,
   "id": "d21ed23d",
   "metadata": {},
   "outputs": [
    {
     "data": {
      "text/html": [
       "<div>\n",
       "<style scoped>\n",
       "    .dataframe tbody tr th:only-of-type {\n",
       "        vertical-align: middle;\n",
       "    }\n",
       "\n",
       "    .dataframe tbody tr th {\n",
       "        vertical-align: top;\n",
       "    }\n",
       "\n",
       "    .dataframe thead th {\n",
       "        text-align: right;\n",
       "    }\n",
       "</style>\n",
       "<table border=\"1\" class=\"dataframe\">\n",
       "  <thead>\n",
       "    <tr style=\"text-align: right;\">\n",
       "      <th></th>\n",
       "      <th>satisfaction</th>\n",
       "      <th>Customer Type</th>\n",
       "      <th>Age</th>\n",
       "      <th>Type of Travel</th>\n",
       "      <th>Class</th>\n",
       "      <th>Flight Distance</th>\n",
       "      <th>Seat comfort</th>\n",
       "      <th>Departure/Arrival time convenient</th>\n",
       "      <th>Food and drink</th>\n",
       "      <th>Gate location</th>\n",
       "      <th>...</th>\n",
       "      <th>Online support</th>\n",
       "      <th>Ease of Online booking</th>\n",
       "      <th>On-board service</th>\n",
       "      <th>Leg room service</th>\n",
       "      <th>Baggage handling</th>\n",
       "      <th>Checkin service</th>\n",
       "      <th>Cleanliness</th>\n",
       "      <th>Online boarding</th>\n",
       "      <th>Departure Delay in Minutes</th>\n",
       "      <th>Arrival Delay in Minutes</th>\n",
       "    </tr>\n",
       "  </thead>\n",
       "  <tbody>\n",
       "    <tr>\n",
       "      <th>0</th>\n",
       "      <td>satisfied</td>\n",
       "      <td>Loyal Customer</td>\n",
       "      <td>65</td>\n",
       "      <td>Personal Travel</td>\n",
       "      <td>Eco</td>\n",
       "      <td>265</td>\n",
       "      <td>0</td>\n",
       "      <td>0</td>\n",
       "      <td>0</td>\n",
       "      <td>2</td>\n",
       "      <td>...</td>\n",
       "      <td>2</td>\n",
       "      <td>3</td>\n",
       "      <td>3</td>\n",
       "      <td>0</td>\n",
       "      <td>3</td>\n",
       "      <td>5</td>\n",
       "      <td>3</td>\n",
       "      <td>2</td>\n",
       "      <td>0</td>\n",
       "      <td>0.0</td>\n",
       "    </tr>\n",
       "    <tr>\n",
       "      <th>1</th>\n",
       "      <td>satisfied</td>\n",
       "      <td>Loyal Customer</td>\n",
       "      <td>47</td>\n",
       "      <td>Personal Travel</td>\n",
       "      <td>Business</td>\n",
       "      <td>2464</td>\n",
       "      <td>0</td>\n",
       "      <td>0</td>\n",
       "      <td>0</td>\n",
       "      <td>3</td>\n",
       "      <td>...</td>\n",
       "      <td>2</td>\n",
       "      <td>3</td>\n",
       "      <td>4</td>\n",
       "      <td>4</td>\n",
       "      <td>4</td>\n",
       "      <td>2</td>\n",
       "      <td>3</td>\n",
       "      <td>2</td>\n",
       "      <td>310</td>\n",
       "      <td>305.0</td>\n",
       "    </tr>\n",
       "    <tr>\n",
       "      <th>2</th>\n",
       "      <td>satisfied</td>\n",
       "      <td>Loyal Customer</td>\n",
       "      <td>15</td>\n",
       "      <td>Personal Travel</td>\n",
       "      <td>Eco</td>\n",
       "      <td>2138</td>\n",
       "      <td>0</td>\n",
       "      <td>0</td>\n",
       "      <td>0</td>\n",
       "      <td>3</td>\n",
       "      <td>...</td>\n",
       "      <td>2</td>\n",
       "      <td>2</td>\n",
       "      <td>3</td>\n",
       "      <td>3</td>\n",
       "      <td>4</td>\n",
       "      <td>4</td>\n",
       "      <td>4</td>\n",
       "      <td>2</td>\n",
       "      <td>0</td>\n",
       "      <td>0.0</td>\n",
       "    </tr>\n",
       "    <tr>\n",
       "      <th>3</th>\n",
       "      <td>satisfied</td>\n",
       "      <td>Loyal Customer</td>\n",
       "      <td>60</td>\n",
       "      <td>Personal Travel</td>\n",
       "      <td>Eco</td>\n",
       "      <td>623</td>\n",
       "      <td>0</td>\n",
       "      <td>0</td>\n",
       "      <td>0</td>\n",
       "      <td>3</td>\n",
       "      <td>...</td>\n",
       "      <td>3</td>\n",
       "      <td>1</td>\n",
       "      <td>1</td>\n",
       "      <td>0</td>\n",
       "      <td>1</td>\n",
       "      <td>4</td>\n",
       "      <td>1</td>\n",
       "      <td>3</td>\n",
       "      <td>0</td>\n",
       "      <td>0.0</td>\n",
       "    </tr>\n",
       "    <tr>\n",
       "      <th>4</th>\n",
       "      <td>satisfied</td>\n",
       "      <td>Loyal Customer</td>\n",
       "      <td>70</td>\n",
       "      <td>Personal Travel</td>\n",
       "      <td>Eco</td>\n",
       "      <td>354</td>\n",
       "      <td>0</td>\n",
       "      <td>0</td>\n",
       "      <td>0</td>\n",
       "      <td>3</td>\n",
       "      <td>...</td>\n",
       "      <td>4</td>\n",
       "      <td>2</td>\n",
       "      <td>2</td>\n",
       "      <td>0</td>\n",
       "      <td>2</td>\n",
       "      <td>4</td>\n",
       "      <td>2</td>\n",
       "      <td>5</td>\n",
       "      <td>0</td>\n",
       "      <td>0.0</td>\n",
       "    </tr>\n",
       "  </tbody>\n",
       "</table>\n",
       "<p>5 rows × 22 columns</p>\n",
       "</div>"
      ],
      "text/plain": [
       "  satisfaction   Customer Type  Age   Type of Travel     Class  \\\n",
       "0    satisfied  Loyal Customer   65  Personal Travel       Eco   \n",
       "1    satisfied  Loyal Customer   47  Personal Travel  Business   \n",
       "2    satisfied  Loyal Customer   15  Personal Travel       Eco   \n",
       "3    satisfied  Loyal Customer   60  Personal Travel       Eco   \n",
       "4    satisfied  Loyal Customer   70  Personal Travel       Eco   \n",
       "\n",
       "   Flight Distance  Seat comfort  Departure/Arrival time convenient  \\\n",
       "0              265             0                                  0   \n",
       "1             2464             0                                  0   \n",
       "2             2138             0                                  0   \n",
       "3              623             0                                  0   \n",
       "4              354             0                                  0   \n",
       "\n",
       "   Food and drink  Gate location  ...  Online support  Ease of Online booking  \\\n",
       "0               0              2  ...               2                       3   \n",
       "1               0              3  ...               2                       3   \n",
       "2               0              3  ...               2                       2   \n",
       "3               0              3  ...               3                       1   \n",
       "4               0              3  ...               4                       2   \n",
       "\n",
       "   On-board service  Leg room service  Baggage handling  Checkin service  \\\n",
       "0                 3                 0                 3                5   \n",
       "1                 4                 4                 4                2   \n",
       "2                 3                 3                 4                4   \n",
       "3                 1                 0                 1                4   \n",
       "4                 2                 0                 2                4   \n",
       "\n",
       "   Cleanliness  Online boarding  Departure Delay in Minutes  \\\n",
       "0            3                2                           0   \n",
       "1            3                2                         310   \n",
       "2            4                2                           0   \n",
       "3            1                3                           0   \n",
       "4            2                5                           0   \n",
       "\n",
       "   Arrival Delay in Minutes  \n",
       "0                       0.0  \n",
       "1                     305.0  \n",
       "2                       0.0  \n",
       "3                       0.0  \n",
       "4                       0.0  \n",
       "\n",
       "[5 rows x 22 columns]"
      ]
     },
     "execution_count": 2,
     "metadata": {},
     "output_type": "execute_result"
    }
   ],
   "source": [
    "df = pd.read_csv('Airline_customer_satisfaction.csv')\n",
    "df.head()"
   ]
  },
  {
   "cell_type": "markdown",
   "id": "b3cba5d4",
   "metadata": {},
   "source": [
    "### Overall information of the dataset"
   ]
  },
  {
   "cell_type": "code",
   "execution_count": 3,
   "id": "89819dfb",
   "metadata": {
    "scrolled": false
   },
   "outputs": [
    {
     "name": "stdout",
     "output_type": "stream",
     "text": [
      "<class 'pandas.core.frame.DataFrame'>\n",
      "RangeIndex: 129880 entries, 0 to 129879\n",
      "Data columns (total 22 columns):\n",
      " #   Column                             Non-Null Count   Dtype  \n",
      "---  ------                             --------------   -----  \n",
      " 0   satisfaction                       129880 non-null  object \n",
      " 1   Customer Type                      129880 non-null  object \n",
      " 2   Age                                129880 non-null  int64  \n",
      " 3   Type of Travel                     129880 non-null  object \n",
      " 4   Class                              129880 non-null  object \n",
      " 5   Flight Distance                    129880 non-null  int64  \n",
      " 6   Seat comfort                       129880 non-null  int64  \n",
      " 7   Departure/Arrival time convenient  129880 non-null  int64  \n",
      " 8   Food and drink                     129880 non-null  int64  \n",
      " 9   Gate location                      129880 non-null  int64  \n",
      " 10  Inflight wifi service              129880 non-null  int64  \n",
      " 11  Inflight entertainment             129880 non-null  int64  \n",
      " 12  Online support                     129880 non-null  int64  \n",
      " 13  Ease of Online booking             129880 non-null  int64  \n",
      " 14  On-board service                   129880 non-null  int64  \n",
      " 15  Leg room service                   129880 non-null  int64  \n",
      " 16  Baggage handling                   129880 non-null  int64  \n",
      " 17  Checkin service                    129880 non-null  int64  \n",
      " 18  Cleanliness                        129880 non-null  int64  \n",
      " 19  Online boarding                    129880 non-null  int64  \n",
      " 20  Departure Delay in Minutes         129880 non-null  int64  \n",
      " 21  Arrival Delay in Minutes           129487 non-null  float64\n",
      "dtypes: float64(1), int64(17), object(4)\n",
      "memory usage: 21.8+ MB\n"
     ]
    }
   ],
   "source": [
    "df.info()"
   ]
  },
  {
   "cell_type": "markdown",
   "id": "be155e1b",
   "metadata": {},
   "source": [
    "#### Insight: Only the last column has null values"
   ]
  },
  {
   "cell_type": "markdown",
   "id": "8650f72b",
   "metadata": {},
   "source": [
    "### Statistical summary of the data"
   ]
  },
  {
   "cell_type": "code",
   "execution_count": 4,
   "id": "eb16167b",
   "metadata": {},
   "outputs": [
    {
     "data": {
      "text/html": [
       "<div>\n",
       "<style scoped>\n",
       "    .dataframe tbody tr th:only-of-type {\n",
       "        vertical-align: middle;\n",
       "    }\n",
       "\n",
       "    .dataframe tbody tr th {\n",
       "        vertical-align: top;\n",
       "    }\n",
       "\n",
       "    .dataframe thead th {\n",
       "        text-align: right;\n",
       "    }\n",
       "</style>\n",
       "<table border=\"1\" class=\"dataframe\">\n",
       "  <thead>\n",
       "    <tr style=\"text-align: right;\">\n",
       "      <th></th>\n",
       "      <th>Age</th>\n",
       "      <th>Flight Distance</th>\n",
       "      <th>Seat comfort</th>\n",
       "      <th>Departure/Arrival time convenient</th>\n",
       "      <th>Food and drink</th>\n",
       "      <th>Gate location</th>\n",
       "      <th>Inflight wifi service</th>\n",
       "      <th>Inflight entertainment</th>\n",
       "      <th>Online support</th>\n",
       "      <th>Ease of Online booking</th>\n",
       "      <th>On-board service</th>\n",
       "      <th>Leg room service</th>\n",
       "      <th>Baggage handling</th>\n",
       "      <th>Checkin service</th>\n",
       "      <th>Cleanliness</th>\n",
       "      <th>Online boarding</th>\n",
       "      <th>Departure Delay in Minutes</th>\n",
       "      <th>Arrival Delay in Minutes</th>\n",
       "    </tr>\n",
       "  </thead>\n",
       "  <tbody>\n",
       "    <tr>\n",
       "      <th>count</th>\n",
       "      <td>129880.000000</td>\n",
       "      <td>129880.000000</td>\n",
       "      <td>129880.000000</td>\n",
       "      <td>129880.000000</td>\n",
       "      <td>129880.000000</td>\n",
       "      <td>129880.000000</td>\n",
       "      <td>129880.000000</td>\n",
       "      <td>129880.000000</td>\n",
       "      <td>129880.000000</td>\n",
       "      <td>129880.000000</td>\n",
       "      <td>129880.000000</td>\n",
       "      <td>129880.000000</td>\n",
       "      <td>129880.000000</td>\n",
       "      <td>129880.000000</td>\n",
       "      <td>129880.000000</td>\n",
       "      <td>129880.000000</td>\n",
       "      <td>129880.000000</td>\n",
       "      <td>129487.000000</td>\n",
       "    </tr>\n",
       "    <tr>\n",
       "      <th>mean</th>\n",
       "      <td>39.427957</td>\n",
       "      <td>1981.409055</td>\n",
       "      <td>2.838597</td>\n",
       "      <td>2.990645</td>\n",
       "      <td>2.851994</td>\n",
       "      <td>2.990422</td>\n",
       "      <td>3.249130</td>\n",
       "      <td>3.383477</td>\n",
       "      <td>3.519703</td>\n",
       "      <td>3.472105</td>\n",
       "      <td>3.465075</td>\n",
       "      <td>3.485902</td>\n",
       "      <td>3.695673</td>\n",
       "      <td>3.340807</td>\n",
       "      <td>3.705759</td>\n",
       "      <td>3.352587</td>\n",
       "      <td>14.713713</td>\n",
       "      <td>15.091129</td>\n",
       "    </tr>\n",
       "    <tr>\n",
       "      <th>std</th>\n",
       "      <td>15.119360</td>\n",
       "      <td>1027.115606</td>\n",
       "      <td>1.392983</td>\n",
       "      <td>1.527224</td>\n",
       "      <td>1.443729</td>\n",
       "      <td>1.305970</td>\n",
       "      <td>1.318818</td>\n",
       "      <td>1.346059</td>\n",
       "      <td>1.306511</td>\n",
       "      <td>1.305560</td>\n",
       "      <td>1.270836</td>\n",
       "      <td>1.292226</td>\n",
       "      <td>1.156483</td>\n",
       "      <td>1.260582</td>\n",
       "      <td>1.151774</td>\n",
       "      <td>1.298715</td>\n",
       "      <td>38.071126</td>\n",
       "      <td>38.465650</td>\n",
       "    </tr>\n",
       "    <tr>\n",
       "      <th>min</th>\n",
       "      <td>7.000000</td>\n",
       "      <td>50.000000</td>\n",
       "      <td>0.000000</td>\n",
       "      <td>0.000000</td>\n",
       "      <td>0.000000</td>\n",
       "      <td>0.000000</td>\n",
       "      <td>0.000000</td>\n",
       "      <td>0.000000</td>\n",
       "      <td>0.000000</td>\n",
       "      <td>0.000000</td>\n",
       "      <td>0.000000</td>\n",
       "      <td>0.000000</td>\n",
       "      <td>1.000000</td>\n",
       "      <td>0.000000</td>\n",
       "      <td>0.000000</td>\n",
       "      <td>0.000000</td>\n",
       "      <td>0.000000</td>\n",
       "      <td>0.000000</td>\n",
       "    </tr>\n",
       "    <tr>\n",
       "      <th>25%</th>\n",
       "      <td>27.000000</td>\n",
       "      <td>1359.000000</td>\n",
       "      <td>2.000000</td>\n",
       "      <td>2.000000</td>\n",
       "      <td>2.000000</td>\n",
       "      <td>2.000000</td>\n",
       "      <td>2.000000</td>\n",
       "      <td>2.000000</td>\n",
       "      <td>3.000000</td>\n",
       "      <td>2.000000</td>\n",
       "      <td>3.000000</td>\n",
       "      <td>2.000000</td>\n",
       "      <td>3.000000</td>\n",
       "      <td>3.000000</td>\n",
       "      <td>3.000000</td>\n",
       "      <td>2.000000</td>\n",
       "      <td>0.000000</td>\n",
       "      <td>0.000000</td>\n",
       "    </tr>\n",
       "    <tr>\n",
       "      <th>50%</th>\n",
       "      <td>40.000000</td>\n",
       "      <td>1925.000000</td>\n",
       "      <td>3.000000</td>\n",
       "      <td>3.000000</td>\n",
       "      <td>3.000000</td>\n",
       "      <td>3.000000</td>\n",
       "      <td>3.000000</td>\n",
       "      <td>4.000000</td>\n",
       "      <td>4.000000</td>\n",
       "      <td>4.000000</td>\n",
       "      <td>4.000000</td>\n",
       "      <td>4.000000</td>\n",
       "      <td>4.000000</td>\n",
       "      <td>3.000000</td>\n",
       "      <td>4.000000</td>\n",
       "      <td>4.000000</td>\n",
       "      <td>0.000000</td>\n",
       "      <td>0.000000</td>\n",
       "    </tr>\n",
       "    <tr>\n",
       "      <th>75%</th>\n",
       "      <td>51.000000</td>\n",
       "      <td>2544.000000</td>\n",
       "      <td>4.000000</td>\n",
       "      <td>4.000000</td>\n",
       "      <td>4.000000</td>\n",
       "      <td>4.000000</td>\n",
       "      <td>4.000000</td>\n",
       "      <td>4.000000</td>\n",
       "      <td>5.000000</td>\n",
       "      <td>5.000000</td>\n",
       "      <td>4.000000</td>\n",
       "      <td>5.000000</td>\n",
       "      <td>5.000000</td>\n",
       "      <td>4.000000</td>\n",
       "      <td>5.000000</td>\n",
       "      <td>4.000000</td>\n",
       "      <td>12.000000</td>\n",
       "      <td>13.000000</td>\n",
       "    </tr>\n",
       "    <tr>\n",
       "      <th>max</th>\n",
       "      <td>85.000000</td>\n",
       "      <td>6951.000000</td>\n",
       "      <td>5.000000</td>\n",
       "      <td>5.000000</td>\n",
       "      <td>5.000000</td>\n",
       "      <td>5.000000</td>\n",
       "      <td>5.000000</td>\n",
       "      <td>5.000000</td>\n",
       "      <td>5.000000</td>\n",
       "      <td>5.000000</td>\n",
       "      <td>5.000000</td>\n",
       "      <td>5.000000</td>\n",
       "      <td>5.000000</td>\n",
       "      <td>5.000000</td>\n",
       "      <td>5.000000</td>\n",
       "      <td>5.000000</td>\n",
       "      <td>1592.000000</td>\n",
       "      <td>1584.000000</td>\n",
       "    </tr>\n",
       "  </tbody>\n",
       "</table>\n",
       "</div>"
      ],
      "text/plain": [
       "                 Age  Flight Distance   Seat comfort  \\\n",
       "count  129880.000000    129880.000000  129880.000000   \n",
       "mean       39.427957      1981.409055       2.838597   \n",
       "std        15.119360      1027.115606       1.392983   \n",
       "min         7.000000        50.000000       0.000000   \n",
       "25%        27.000000      1359.000000       2.000000   \n",
       "50%        40.000000      1925.000000       3.000000   \n",
       "75%        51.000000      2544.000000       4.000000   \n",
       "max        85.000000      6951.000000       5.000000   \n",
       "\n",
       "       Departure/Arrival time convenient  Food and drink  Gate location  \\\n",
       "count                      129880.000000   129880.000000  129880.000000   \n",
       "mean                            2.990645        2.851994       2.990422   \n",
       "std                             1.527224        1.443729       1.305970   \n",
       "min                             0.000000        0.000000       0.000000   \n",
       "25%                             2.000000        2.000000       2.000000   \n",
       "50%                             3.000000        3.000000       3.000000   \n",
       "75%                             4.000000        4.000000       4.000000   \n",
       "max                             5.000000        5.000000       5.000000   \n",
       "\n",
       "       Inflight wifi service  Inflight entertainment  Online support  \\\n",
       "count          129880.000000           129880.000000   129880.000000   \n",
       "mean                3.249130                3.383477        3.519703   \n",
       "std                 1.318818                1.346059        1.306511   \n",
       "min                 0.000000                0.000000        0.000000   \n",
       "25%                 2.000000                2.000000        3.000000   \n",
       "50%                 3.000000                4.000000        4.000000   \n",
       "75%                 4.000000                4.000000        5.000000   \n",
       "max                 5.000000                5.000000        5.000000   \n",
       "\n",
       "       Ease of Online booking  On-board service  Leg room service  \\\n",
       "count           129880.000000     129880.000000     129880.000000   \n",
       "mean                 3.472105          3.465075          3.485902   \n",
       "std                  1.305560          1.270836          1.292226   \n",
       "min                  0.000000          0.000000          0.000000   \n",
       "25%                  2.000000          3.000000          2.000000   \n",
       "50%                  4.000000          4.000000          4.000000   \n",
       "75%                  5.000000          4.000000          5.000000   \n",
       "max                  5.000000          5.000000          5.000000   \n",
       "\n",
       "       Baggage handling  Checkin service    Cleanliness  Online boarding  \\\n",
       "count     129880.000000    129880.000000  129880.000000    129880.000000   \n",
       "mean           3.695673         3.340807       3.705759         3.352587   \n",
       "std            1.156483         1.260582       1.151774         1.298715   \n",
       "min            1.000000         0.000000       0.000000         0.000000   \n",
       "25%            3.000000         3.000000       3.000000         2.000000   \n",
       "50%            4.000000         3.000000       4.000000         4.000000   \n",
       "75%            5.000000         4.000000       5.000000         4.000000   \n",
       "max            5.000000         5.000000       5.000000         5.000000   \n",
       "\n",
       "       Departure Delay in Minutes  Arrival Delay in Minutes  \n",
       "count               129880.000000             129487.000000  \n",
       "mean                    14.713713                 15.091129  \n",
       "std                     38.071126                 38.465650  \n",
       "min                      0.000000                  0.000000  \n",
       "25%                      0.000000                  0.000000  \n",
       "50%                      0.000000                  0.000000  \n",
       "75%                     12.000000                 13.000000  \n",
       "max                   1592.000000               1584.000000  "
      ]
     },
     "execution_count": 4,
     "metadata": {},
     "output_type": "execute_result"
    }
   ],
   "source": [
    "df.describe()"
   ]
  },
  {
   "cell_type": "code",
   "execution_count": 5,
   "id": "98754dc8",
   "metadata": {},
   "outputs": [
    {
     "data": {
      "text/plain": [
       "0"
      ]
     },
     "execution_count": 5,
     "metadata": {},
     "output_type": "execute_result"
    }
   ],
   "source": [
    "df.duplicated().sum()"
   ]
  },
  {
   "cell_type": "code",
   "execution_count": 6,
   "id": "ac252795",
   "metadata": {},
   "outputs": [],
   "source": [
    "df.columns = df.columns.str.lower()"
   ]
  },
  {
   "cell_type": "code",
   "execution_count": 7,
   "id": "ee03a7a8",
   "metadata": {},
   "outputs": [
    {
     "data": {
      "text/plain": [
       "Index(['satisfaction', 'customer type', 'age', 'type of travel', 'class',\n",
       "       'flight distance', 'seat comfort', 'departure/arrival time convenient',\n",
       "       'food and drink', 'gate location', 'inflight wifi service',\n",
       "       'inflight entertainment', 'online support', 'ease of online booking',\n",
       "       'on-board service', 'leg room service', 'baggage handling',\n",
       "       'checkin service', 'cleanliness', 'online boarding',\n",
       "       'departure delay in minutes', 'arrival delay in minutes'],\n",
       "      dtype='object')"
      ]
     },
     "execution_count": 7,
     "metadata": {},
     "output_type": "execute_result"
    }
   ],
   "source": [
    "df.columns"
   ]
  },
  {
   "cell_type": "code",
   "execution_count": 8,
   "id": "4e628aab",
   "metadata": {},
   "outputs": [
    {
     "name": "stderr",
     "output_type": "stream",
     "text": [
      "C:\\Users\\odhia\\AppData\\Local\\Temp\\ipykernel_6844\\1587564352.py:1: FutureWarning: A value is trying to be set on a copy of a DataFrame or Series through chained assignment using an inplace method.\n",
      "The behavior will change in pandas 3.0. This inplace method will never work because the intermediate object on which we are setting values always behaves as a copy.\n",
      "\n",
      "For example, when doing 'df[col].method(value, inplace=True)', try using 'df.method({col: value}, inplace=True)' or df[col] = df[col].method(value) instead, to perform the operation inplace on the original object.\n",
      "\n",
      "\n",
      "  df['arrival delay in minutes'].fillna(df['arrival delay in minutes'].median(),inplace=True)\n"
     ]
    }
   ],
   "source": [
    "df['arrival delay in minutes'].fillna(df['arrival delay in minutes'].median(),inplace=True)"
   ]
  },
  {
   "cell_type": "markdown",
   "id": "cff8a87e",
   "metadata": {},
   "source": [
    "### Let's start exploring the columns\n",
    "#### Satisfaction:>indicatesatisfaction level for customer"
   ]
  },
  {
   "cell_type": "code",
   "execution_count": 9,
   "id": "e53f65a3",
   "metadata": {},
   "outputs": [
    {
     "data": {
      "text/plain": [
       "satisfaction\n",
       "satisfied       71087\n",
       "dissatisfied    58793\n",
       "Name: count, dtype: int64"
      ]
     },
     "execution_count": 9,
     "metadata": {},
     "output_type": "execute_result"
    }
   ],
   "source": [
    "df['satisfaction'].value_counts()"
   ]
  },
  {
   "cell_type": "code",
   "execution_count": 10,
   "id": "1d9ed2fb",
   "metadata": {
    "scrolled": false
   },
   "outputs": [
    {
     "data": {
      "text/plain": [
       "<Axes: xlabel='satisfaction', ylabel='count'>"
      ]
     },
     "execution_count": 10,
     "metadata": {},
     "output_type": "execute_result"
    },
    {
     "data": {
      "image/png": "[encoded data removed]",
      "text/plain": [
       "<Figure size 640x480 with 1 Axes>"
      ]
     },
     "metadata": {},
     "output_type": "display_data"
    }
   ],
   "source": [
    "sns.countplot(x=df['satisfaction'])"
   ]
  },
  {
   "cell_type": "markdown",
   "id": "1773b487",
   "metadata": {},
   "source": [
    "#### Insight: There is no imbalance, and that's a win"
   ]
  },
  {
   "cell_type": "markdown",
   "id": "a098a32b",
   "metadata": {},
   "source": [
    "#### Customer type:>Type of customer: 'Loyal Customer' or 'Disloyal Customer’."
   ]
  },
  {
   "cell_type": "code",
   "execution_count": 11,
   "id": "6f8cac6e",
   "metadata": {},
   "outputs": [
    {
     "data": {
      "text/plain": [
       "customer type\n",
       "Loyal Customer       106100\n",
       "disloyal Customer     23780\n",
       "Name: count, dtype: int64"
      ]
     },
     "execution_count": 11,
     "metadata": {},
     "output_type": "execute_result"
    }
   ],
   "source": [
    "df['customer type'].value_counts()"
   ]
  },
  {
   "cell_type": "code",
   "execution_count": 12,
   "id": "13b40182",
   "metadata": {},
   "outputs": [],
   "source": [
    "def clean_customer_type(x):\n",
    "    if x == 'disloyal Customer':\n",
    "        return 'Disloyal Customer'\n",
    "    else:\n",
    "        return x\n",
    "df['customer type'] = df['customer type'].apply(clean_customer_type)"
   ]
  },
  {
   "cell_type": "code",
   "execution_count": 13,
   "id": "547a9b50",
   "metadata": {
    "scrolled": true
   },
   "outputs": [
    {
     "data": {
      "text/plain": [
       "<Axes: xlabel='customer type', ylabel='count'>"
      ]
     },
     "execution_count": 13,
     "metadata": {},
     "output_type": "execute_result"
    },
    {
     "data": {
      "image/png": "[encoded data removed]",
      "text/plain": [
       "<Figure size 640x480 with 1 Axes>"
      ]
     },
     "metadata": {},
     "output_type": "display_data"
    }
   ],
   "source": [
    "sns.countplot(x=df['customer type'])"
   ]
  },
  {
   "cell_type": "code",
   "execution_count": 14,
   "id": "4b53e701",
   "metadata": {},
   "outputs": [
    {
     "name": "stdout",
     "output_type": "stream",
     "text": [
      "The maximum age of customer is: 85\n",
      "==========\n",
      "The minimum age of customer is: 7\n"
     ]
    }
   ],
   "source": [
    "print(f\"The maximum age of customer is: {df['age'].max()}\")\n",
    "print('='*10)\n",
    "print(f\"The minimum age of customer is: {df['age'].min()}\")"
   ]
  },
  {
   "cell_type": "code",
   "execution_count": 15,
   "id": "393c5006",
   "metadata": {},
   "outputs": [
    {
     "name": "stderr",
     "output_type": "stream",
     "text": [
      "C:\\Users\\odhia\\AppData\\Local\\anaconda3\\lib\\site-packages\\seaborn\\_oldcore.py:1119: FutureWarning: use_inf_as_na option is deprecated and will be removed in a future version. Convert inf values to NaN before operating instead.\n",
      "  with pd.option_context('mode.use_inf_as_na', True):\n"
     ]
    },
    {
     "data": {
      "text/plain": [
       "<seaborn.axisgrid.FacetGrid at 0x2551f74afb0>"
      ]
     },
     "execution_count": 15,
     "metadata": {},
     "output_type": "execute_result"
    },
    {
     "data": {
      "image/png": "[encoded data removed]",
      "text/plain": [
       "<Figure size 500x500 with 1 Axes>"
      ]
     },
     "metadata": {},
     "output_type": "display_data"
    }
   ],
   "source": [
    "sns.displot(x=df['age'],kind='kde')"
   ]
  },
  {
   "cell_type": "markdown",
   "id": "c55a9624",
   "metadata": {},
   "source": [
    "##### Most customers are of age 40"
   ]
  },
  {
   "cell_type": "markdown",
   "id": "647c39ad",
   "metadata": {},
   "source": [
    "### Type of travel:>Purpose of the travel: 'Business travel' or 'Personal Travel’."
   ]
  },
  {
   "cell_type": "code",
   "execution_count": 16,
   "id": "bdaa4b6f",
   "metadata": {},
   "outputs": [
    {
     "data": {
      "text/plain": [
       "type of travel\n",
       "Business travel    89693\n",
       "Personal Travel    40187\n",
       "Name: count, dtype: int64"
      ]
     },
     "execution_count": 16,
     "metadata": {},
     "output_type": "execute_result"
    }
   ],
   "source": [
    "df['type of travel'].value_counts()"
   ]
  },
  {
   "cell_type": "code",
   "execution_count": 17,
   "id": "12d189fc",
   "metadata": {
    "scrolled": true
   },
   "outputs": [
    {
     "data": {
      "text/plain": [
       "<Axes: xlabel='type of travel', ylabel='count'>"
      ]
     },
     "execution_count": 17,
     "metadata": {},
     "output_type": "execute_result"
    },
    {
     "data": {
      "image/png": "[encoded data removed]",
      "text/plain": [
       "<Figure size 640x480 with 1 Axes>"
      ]
     },
     "metadata": {},
     "output_type": "display_data"
    }
   ],
   "source": [
    "sns.countplot(x=df['type of travel'])"
   ]
  },
  {
   "cell_type": "markdown",
   "id": "65ccab53",
   "metadata": {},
   "source": [
    "### Class:>Class of travel: 'Business', 'Eco', or 'Eco Plus’."
   ]
  },
  {
   "cell_type": "code",
   "execution_count": 18,
   "id": "46b447f8",
   "metadata": {},
   "outputs": [
    {
     "data": {
      "text/plain": [
       "class\n",
       "Business    62160\n",
       "Eco         58309\n",
       "Eco Plus     9411\n",
       "Name: count, dtype: int64"
      ]
     },
     "execution_count": 18,
     "metadata": {},
     "output_type": "execute_result"
    }
   ],
   "source": [
    "df['class'].value_counts()"
   ]
  },
  {
   "cell_type": "code",
   "execution_count": 19,
   "id": "fc4cc9a9",
   "metadata": {},
   "outputs": [],
   "source": [
    "def clean_class(x):\n",
    "    if x == 'Eco':\n",
    "        return 'Economy'\n",
    "    if x == 'Eco Plus':\n",
    "        return 'Economy Plus'\n",
    "    else:\n",
    "        return x\n",
    "df['class'] = df['class'].apply(clean_class)"
   ]
  },
  {
   "cell_type": "code",
   "execution_count": 20,
   "id": "d1072ff1",
   "metadata": {
    "scrolled": true
   },
   "outputs": [
    {
     "data": {
      "text/plain": [
       "<Axes: xlabel='class', ylabel='count'>"
      ]
     },
     "execution_count": 20,
     "metadata": {},
     "output_type": "execute_result"
    },
    {
     "data": {
      "image/png": "[encoded data removed]",
      "text/plain": [
       "<Figure size 640x480 with 1 Axes>"
      ]
     },
     "metadata": {},
     "output_type": "display_data"
    }
   ],
   "source": [
    "sns.countplot(x=df['class'])"
   ]
  },
  {
   "cell_type": "markdown",
   "id": "69f69d6c",
   "metadata": {},
   "source": [
    "### Flight Distance:>The distance of the flight in kilometres"
   ]
  },
  {
   "cell_type": "code",
   "execution_count": 21,
   "id": "56fdda9d",
   "metadata": {},
   "outputs": [
    {
     "name": "stdout",
     "output_type": "stream",
     "text": [
      "The maximum distance of flight is: 6951 km\n",
      "==============================\n",
      "The minimum distance of flight is: 50 km\n"
     ]
    }
   ],
   "source": [
    "print(f\"The maximum distance of flight is: {df['flight distance'].max()} km\")\n",
    "print('='*30)\n",
    "print(f\"The minimum distance of flight is: {df['flight distance'].min()} km\")"
   ]
  },
  {
   "cell_type": "code",
   "execution_count": 22,
   "id": "a801fb5c",
   "metadata": {},
   "outputs": [
    {
     "data": {
      "text/plain": [
       "class\n",
       "Business        6951\n",
       "Economy         6924\n",
       "Economy Plus    6889\n",
       "Name: flight distance, dtype: int64"
      ]
     },
     "execution_count": 22,
     "metadata": {},
     "output_type": "execute_result"
    }
   ],
   "source": [
    "df.groupby('class')['flight distance'].max()\n",
    "# this outputs the maximum distance covered by the htree classes of travel"
   ]
  },
  {
   "cell_type": "code",
   "execution_count": 23,
   "id": "ac5e670d",
   "metadata": {},
   "outputs": [
    {
     "data": {
      "text/plain": [
       "class\n",
       "Business        50\n",
       "Economy         50\n",
       "Economy Plus    50\n",
       "Name: flight distance, dtype: int64"
      ]
     },
     "execution_count": 23,
     "metadata": {},
     "output_type": "execute_result"
    }
   ],
   "source": [
    "df.groupby('class')['flight distance'].min()\n",
    "# this outputs the maximum distance covered by the htree classes of travel"
   ]
  },
  {
   "cell_type": "markdown",
   "id": "3e5d3829",
   "metadata": {},
   "source": [
    "### Seat comfort:>Rating of seat comfort provided during the flight (1 to 5).0(Not rated)"
   ]
  },
  {
   "cell_type": "code",
   "execution_count": 24,
   "id": "41f4e9af",
   "metadata": {},
   "outputs": [
    {
     "data": {
      "text/plain": [
       "array([0, 1, 4, 5, 2, 3], dtype=int64)"
      ]
     },
     "execution_count": 24,
     "metadata": {},
     "output_type": "execute_result"
    }
   ],
   "source": [
    "df['seat comfort'].unique()"
   ]
  },
  {
   "cell_type": "code",
   "execution_count": 25,
   "id": "354d41f7",
   "metadata": {},
   "outputs": [
    {
     "name": "stderr",
     "output_type": "stream",
     "text": [
      "C:\\Users\\odhia\\AppData\\Local\\anaconda3\\lib\\site-packages\\seaborn\\_oldcore.py:1119: FutureWarning: use_inf_as_na option is deprecated and will be removed in a future version. Convert inf values to NaN before operating instead.\n",
      "  with pd.option_context('mode.use_inf_as_na', True):\n"
     ]
    },
    {
     "data": {
      "text/plain": [
       "<seaborn.axisgrid.FacetGrid at 0x25524995630>"
      ]
     },
     "execution_count": 25,
     "metadata": {},
     "output_type": "execute_result"
    },
    {
     "data": {
      "image/png": "[encoded data removed]",
      "text/plain": [
       "<Figure size 500x500 with 1 Axes>"
      ]
     },
     "metadata": {},
     "output_type": "display_data"
    }
   ],
   "source": [
    "sns.displot(x=df['seat comfort'])\n",
    "# most customers gave a rating of 3, while few customer did not give the rating"
   ]
  },
  {
   "cell_type": "markdown",
   "id": "527d7bfb",
   "metadata": {},
   "source": [
    "### Departure/Arrival time convenient:>Rating of the convenience of departure/arrival time (1 to 5). 0(Not rated)"
   ]
  },
  {
   "cell_type": "code",
   "execution_count": 26,
   "id": "1f6fb4d9",
   "metadata": {},
   "outputs": [
    {
     "data": {
      "text/plain": [
       "array([0, 1, 2, 3, 4, 5], dtype=int64)"
      ]
     },
     "execution_count": 26,
     "metadata": {},
     "output_type": "execute_result"
    }
   ],
   "source": [
    "df['departure/arrival time convenient'].unique()"
   ]
  },
  {
   "cell_type": "code",
   "execution_count": 27,
   "id": "06946ef1",
   "metadata": {},
   "outputs": [
    {
     "name": "stderr",
     "output_type": "stream",
     "text": [
      "C:\\Users\\odhia\\AppData\\Local\\anaconda3\\lib\\site-packages\\seaborn\\_oldcore.py:1119: FutureWarning: use_inf_as_na option is deprecated and will be removed in a future version. Convert inf values to NaN before operating instead.\n",
      "  with pd.option_context('mode.use_inf_as_na', True):\n"
     ]
    },
    {
     "data": {
      "text/plain": [
       "<seaborn.axisgrid.FacetGrid at 0x25524a5cf70>"
      ]
     },
     "execution_count": 27,
     "metadata": {},
     "output_type": "execute_result"
    },
    {
     "data": {
      "image/png": "[encoded data removed]",
      "text/plain": [
       "<Figure size 500x500 with 1 Axes>"
      ]
     },
     "metadata": {},
     "output_type": "display_data"
    }
   ],
   "source": [
    "sns.displot(x=df['departure/arrival time convenient'])\n",
    "# most customers gave a rating of 4, while few customer did not give the rating"
   ]
  },
  {
   "cell_type": "code",
   "execution_count": 28,
   "id": "d717b2ce",
   "metadata": {},
   "outputs": [
    {
     "data": {
      "text/plain": [
       "Index(['satisfaction', 'customer type', 'age', 'type of travel', 'class',\n",
       "       'flight distance', 'seat comfort', 'departure/arrival time convenient',\n",
       "       'food and drink', 'gate location', 'inflight wifi service',\n",
       "       'inflight entertainment', 'online support', 'ease of online booking',\n",
       "       'on-board service', 'leg room service', 'baggage handling',\n",
       "       'checkin service', 'cleanliness', 'online boarding',\n",
       "       'departure delay in minutes', 'arrival delay in minutes'],\n",
       "      dtype='object')"
      ]
     },
     "execution_count": 28,
     "metadata": {},
     "output_type": "execute_result"
    }
   ],
   "source": [
    "df.columns"
   ]
  },
  {
   "cell_type": "code",
   "execution_count": 29,
   "id": "4e43953a",
   "metadata": {},
   "outputs": [
    {
     "name": "stdout",
     "output_type": "stream",
     "text": [
      "<class 'pandas.core.frame.DataFrame'>\n",
      "RangeIndex: 129880 entries, 0 to 129879\n",
      "Data columns (total 22 columns):\n",
      " #   Column                             Non-Null Count   Dtype  \n",
      "---  ------                             --------------   -----  \n",
      " 0   satisfaction                       129880 non-null  object \n",
      " 1   customer type                      129880 non-null  object \n",
      " 2   age                                129880 non-null  int64  \n",
      " 3   type of travel                     129880 non-null  object \n",
      " 4   class                              129880 non-null  object \n",
      " 5   flight distance                    129880 non-null  int64  \n",
      " 6   seat comfort                       129880 non-null  int64  \n",
      " 7   departure/arrival time convenient  129880 non-null  int64  \n",
      " 8   food and drink                     129880 non-null  int64  \n",
      " 9   gate location                      129880 non-null  int64  \n",
      " 10  inflight wifi service              129880 non-null  int64  \n",
      " 11  inflight entertainment             129880 non-null  int64  \n",
      " 12  online support                     129880 non-null  int64  \n",
      " 13  ease of online booking             129880 non-null  int64  \n",
      " 14  on-board service                   129880 non-null  int64  \n",
      " 15  leg room service                   129880 non-null  int64  \n",
      " 16  baggage handling                   129880 non-null  int64  \n",
      " 17  checkin service                    129880 non-null  int64  \n",
      " 18  cleanliness                        129880 non-null  int64  \n",
      " 19  online boarding                    129880 non-null  int64  \n",
      " 20  departure delay in minutes         129880 non-null  int64  \n",
      " 21  arrival delay in minutes           129880 non-null  float64\n",
      "dtypes: float64(1), int64(17), object(4)\n",
      "memory usage: 21.8+ MB\n"
     ]
    }
   ],
   "source": [
    "df.info()"
   ]
  },
  {
   "cell_type": "markdown",
   "id": "f26df50e",
   "metadata": {},
   "source": [
    "### Food and drink:>Rating of food and drink quality provided during the flight (1 to 5) 0(Not rated)"
   ]
  },
  {
   "cell_type": "code",
   "execution_count": 30,
   "id": "1223c9fd",
   "metadata": {},
   "outputs": [
    {
     "name": "stderr",
     "output_type": "stream",
     "text": [
      "C:\\Users\\odhia\\AppData\\Local\\anaconda3\\lib\\site-packages\\seaborn\\_oldcore.py:1119: FutureWarning: use_inf_as_na option is deprecated and will be removed in a future version. Convert inf values to NaN before operating instead.\n",
      "  with pd.option_context('mode.use_inf_as_na', True):\n"
     ]
    },
    {
     "data": {
      "text/plain": [
       "<seaborn.axisgrid.FacetGrid at 0x25524c62b00>"
      ]
     },
     "execution_count": 30,
     "metadata": {},
     "output_type": "execute_result"
    },
    {
     "data": {
      "image/png": "[encoded data removed]",
      "text/plain": [
       "<Figure size 500x500 with 1 Axes>"
      ]
     },
     "metadata": {},
     "output_type": "display_data"
    }
   ],
   "source": [
    "sns.displot(x=df['food and drink'])\n",
    "# most customers gave a rating of 3, while few customer did not give the rating"
   ]
  },
  {
   "cell_type": "markdown",
   "id": "17571159",
   "metadata": {},
   "source": [
    "### Gate location:>Rating of gate location convenience (1 to 5)."
   ]
  },
  {
   "cell_type": "code",
   "execution_count": 31,
   "id": "4b39280d",
   "metadata": {},
   "outputs": [
    {
     "name": "stderr",
     "output_type": "stream",
     "text": [
      "C:\\Users\\odhia\\AppData\\Local\\anaconda3\\lib\\site-packages\\seaborn\\_oldcore.py:1119: FutureWarning: use_inf_as_na option is deprecated and will be removed in a future version. Convert inf values to NaN before operating instead.\n",
      "  with pd.option_context('mode.use_inf_as_na', True):\n"
     ]
    },
    {
     "data": {
      "text/plain": [
       "<seaborn.axisgrid.FacetGrid at 0x25524d54580>"
      ]
     },
     "execution_count": 31,
     "metadata": {},
     "output_type": "execute_result"
    },
    {
     "data": {
      "image/png": "[encoded data removed]",
      "text/plain": [
       "<Figure size 500x500 with 1 Axes>"
      ]
     },
     "metadata": {},
     "output_type": "display_data"
    }
   ],
   "source": [
    "sns.displot(x=df['gate location'])\n",
    "# most customers gave a rating of 3, while few customer did not give the rating"
   ]
  },
  {
   "cell_type": "markdown",
   "id": "1428ca97",
   "metadata": {},
   "source": [
    "### Inflight wifi service:>Rating of inflight wifi service satisfaction (1 to 5)."
   ]
  },
  {
   "cell_type": "code",
   "execution_count": 32,
   "id": "56b77b20",
   "metadata": {
    "scrolled": false
   },
   "outputs": [
    {
     "name": "stderr",
     "output_type": "stream",
     "text": [
      "C:\\Users\\odhia\\AppData\\Local\\anaconda3\\lib\\site-packages\\seaborn\\_oldcore.py:1119: FutureWarning: use_inf_as_na option is deprecated and will be removed in a future version. Convert inf values to NaN before operating instead.\n",
      "  with pd.option_context('mode.use_inf_as_na', True):\n"
     ]
    },
    {
     "data": {
      "text/plain": [
       "<seaborn.axisgrid.FacetGrid at 0x25524b9c310>"
      ]
     },
     "execution_count": 32,
     "metadata": {},
     "output_type": "execute_result"
    },
    {
     "data": {
      "image/png": "[encoded data removed]",
      "text/plain": [
       "<Figure size 500x500 with 1 Axes>"
      ]
     },
     "metadata": {},
     "output_type": "display_data"
    }
   ],
   "source": [
    "sns.displot(x=df['inflight wifi service'])\n",
    "# most customers gave a rating of 4, while few customer did not give the rating"
   ]
  },
  {
   "cell_type": "markdown",
   "id": "7671e0cd",
   "metadata": {},
   "source": [
    "### Inflight entertainment:Rating of inflight entertainment satisfaction (1 to 5)."
   ]
  },
  {
   "cell_type": "code",
   "execution_count": 33,
   "id": "3a666b4d",
   "metadata": {
    "scrolled": true
   },
   "outputs": [
    {
     "name": "stderr",
     "output_type": "stream",
     "text": [
      "C:\\Users\\odhia\\AppData\\Local\\anaconda3\\lib\\site-packages\\seaborn\\_oldcore.py:1119: FutureWarning: use_inf_as_na option is deprecated and will be removed in a future version. Convert inf values to NaN before operating instead.\n",
      "  with pd.option_context('mode.use_inf_as_na', True):\n"
     ]
    },
    {
     "data": {
      "text/plain": [
       "<seaborn.axisgrid.FacetGrid at 0x25524783d30>"
      ]
     },
     "execution_count": 33,
     "metadata": {},
     "output_type": "execute_result"
    },
    {
     "data": {
      "image/png": "[encoded data removed]",
      "text/plain": [
       "<Figure size 500x500 with 1 Axes>"
      ]
     },
     "metadata": {},
     "output_type": "display_data"
    }
   ],
   "source": [
    "sns.displot(x=df['inflight entertainment'])\n",
    "# most customers gave a rating of 4, while few customer did not give the rating"
   ]
  },
  {
   "cell_type": "markdown",
   "id": "ffeb7c3e",
   "metadata": {},
   "source": [
    "### Ease of Online booking:>Rating of ease of online booking satisfaction (1 to 5)."
   ]
  },
  {
   "cell_type": "code",
   "execution_count": 34,
   "id": "125c6bd6",
   "metadata": {
    "scrolled": true
   },
   "outputs": [
    {
     "name": "stderr",
     "output_type": "stream",
     "text": [
      "C:\\Users\\odhia\\AppData\\Local\\anaconda3\\lib\\site-packages\\seaborn\\_oldcore.py:1119: FutureWarning: use_inf_as_na option is deprecated and will be removed in a future version. Convert inf values to NaN before operating instead.\n",
      "  with pd.option_context('mode.use_inf_as_na', True):\n"
     ]
    },
    {
     "data": {
      "text/plain": [
       "<seaborn.axisgrid.FacetGrid at 0x25525027f40>"
      ]
     },
     "execution_count": 34,
     "metadata": {},
     "output_type": "execute_result"
    },
    {
     "data": {
      "image/png": "[encoded data removed]",
      "text/plain": [
       "<Figure size 500x500 with 1 Axes>"
      ]
     },
     "metadata": {},
     "output_type": "display_data"
    }
   ],
   "source": [
    "sns.displot(x=df['ease of online booking'])\n",
    "# most customers gave a rating of 4, while few customer did not give the rating"
   ]
  },
  {
   "cell_type": "markdown",
   "id": "2619baa6",
   "metadata": {},
   "source": [
    "### On-board service:>Rating of on-board service satisfaction (1 to 5)."
   ]
  },
  {
   "cell_type": "code",
   "execution_count": 35,
   "id": "0e7d8bf7",
   "metadata": {
    "scrolled": true
   },
   "outputs": [
    {
     "name": "stderr",
     "output_type": "stream",
     "text": [
      "C:\\Users\\odhia\\AppData\\Local\\anaconda3\\lib\\site-packages\\seaborn\\_oldcore.py:1119: FutureWarning: use_inf_as_na option is deprecated and will be removed in a future version. Convert inf values to NaN before operating instead.\n",
      "  with pd.option_context('mode.use_inf_as_na', True):\n"
     ]
    },
    {
     "data": {
      "text/plain": [
       "<seaborn.axisgrid.FacetGrid at 0x255250aaaa0>"
      ]
     },
     "execution_count": 35,
     "metadata": {},
     "output_type": "execute_result"
    },
    {
     "data": {
      "image/png": "[encoded data removed]",
      "text/plain": [
       "<Figure size 500x500 with 1 Axes>"
      ]
     },
     "metadata": {},
     "output_type": "display_data"
    }
   ],
   "source": [
    "sns.displot(x=df['on-board service'])\n",
    "# most customers gave a rating of 4, while few customer did not give the rating"
   ]
  },
  {
   "cell_type": "markdown",
   "id": "7a1c9415",
   "metadata": {},
   "source": [
    "### Leg room service:>Rating of leg room service satisfaction (1 to 5)."
   ]
  },
  {
   "cell_type": "code",
   "execution_count": 36,
   "id": "89009db6",
   "metadata": {
    "scrolled": true
   },
   "outputs": [
    {
     "name": "stderr",
     "output_type": "stream",
     "text": [
      "C:\\Users\\odhia\\AppData\\Local\\anaconda3\\lib\\site-packages\\seaborn\\_oldcore.py:1119: FutureWarning: use_inf_as_na option is deprecated and will be removed in a future version. Convert inf values to NaN before operating instead.\n",
      "  with pd.option_context('mode.use_inf_as_na', True):\n"
     ]
    },
    {
     "data": {
      "text/plain": [
       "<seaborn.axisgrid.FacetGrid at 0x255250263b0>"
      ]
     },
     "execution_count": 36,
     "metadata": {},
     "output_type": "execute_result"
    },
    {
     "data": {
      "image/png": "[encoded data removed]",
      "text/plain": [
       "<Figure size 500x500 with 1 Axes>"
      ]
     },
     "metadata": {},
     "output_type": "display_data"
    }
   ],
   "source": [
    "sns.displot(x=df['leg room service'])\n",
    "# most customers gave a rating of 4, while few customer did not give the rating"
   ]
  },
  {
   "cell_type": "markdown",
   "id": "5e80271e",
   "metadata": {},
   "source": [
    "### Baggage handling>Rating of baggage handling satisfaction (1 to 5)."
   ]
  },
  {
   "cell_type": "code",
   "execution_count": 37,
   "id": "7dc52983",
   "metadata": {
    "scrolled": true
   },
   "outputs": [
    {
     "name": "stderr",
     "output_type": "stream",
     "text": [
      "C:\\Users\\odhia\\AppData\\Local\\anaconda3\\lib\\site-packages\\seaborn\\_oldcore.py:1119: FutureWarning: use_inf_as_na option is deprecated and will be removed in a future version. Convert inf values to NaN before operating instead.\n",
      "  with pd.option_context('mode.use_inf_as_na', True):\n"
     ]
    },
    {
     "data": {
      "text/plain": [
       "<seaborn.axisgrid.FacetGrid at 0x25524e9b820>"
      ]
     },
     "execution_count": 37,
     "metadata": {},
     "output_type": "execute_result"
    },
    {
     "data": {
      "image/png": "[encoded data removed]",
      "text/plain": [
       "<Figure size 500x500 with 1 Axes>"
      ]
     },
     "metadata": {},
     "output_type": "display_data"
    }
   ],
   "source": [
    "sns.displot(x=df['baggage handling'])\n",
    "# most customers gave a rating of4,, while few customer did not give the rating"
   ]
  },
  {
   "cell_type": "markdown",
   "id": "80e65c31",
   "metadata": {},
   "source": [
    "### Checkin service\tRating of check-in service satisfaction (1 to 5)."
   ]
  },
  {
   "cell_type": "code",
   "execution_count": 38,
   "id": "f93f14d1",
   "metadata": {
    "scrolled": true
   },
   "outputs": [
    {
     "name": "stderr",
     "output_type": "stream",
     "text": [
      "C:\\Users\\odhia\\AppData\\Local\\anaconda3\\lib\\site-packages\\seaborn\\_oldcore.py:1119: FutureWarning: use_inf_as_na option is deprecated and will be removed in a future version. Convert inf values to NaN before operating instead.\n",
      "  with pd.option_context('mode.use_inf_as_na', True):\n"
     ]
    },
    {
     "data": {
      "text/plain": [
       "<seaborn.axisgrid.FacetGrid at 0x2552514af80>"
      ]
     },
     "execution_count": 38,
     "metadata": {},
     "output_type": "execute_result"
    },
    {
     "data": {
      "image/png": "[encoded data removed]",
      "text/plain": [
       "<Figure size 500x500 with 1 Axes>"
      ]
     },
     "metadata": {},
     "output_type": "display_data"
    }
   ],
   "source": [
    "sns.displot(x=df['checkin service'])\n",
    "# most customers gave a rating of 4, while few customer did not give the rating"
   ]
  },
  {
   "cell_type": "markdown",
   "id": "45ef1a76",
   "metadata": {},
   "source": [
    "### Cleanliness\tRating of cleanliness satisfaction (1 to 5)."
   ]
  },
  {
   "cell_type": "code",
   "execution_count": 39,
   "id": "00423400",
   "metadata": {},
   "outputs": [
    {
     "name": "stderr",
     "output_type": "stream",
     "text": [
      "C:\\Users\\odhia\\AppData\\Local\\anaconda3\\lib\\site-packages\\seaborn\\_oldcore.py:1119: FutureWarning: use_inf_as_na option is deprecated and will be removed in a future version. Convert inf values to NaN before operating instead.\n",
      "  with pd.option_context('mode.use_inf_as_na', True):\n"
     ]
    },
    {
     "data": {
      "text/plain": [
       "<seaborn.axisgrid.FacetGrid at 0x2552555c880>"
      ]
     },
     "execution_count": 39,
     "metadata": {},
     "output_type": "execute_result"
    },
    {
     "data": {
      "image/png": "[encoded data removed]",
      "text/plain": [
       "<Figure size 500x500 with 1 Axes>"
      ]
     },
     "metadata": {},
     "output_type": "display_data"
    }
   ],
   "source": [
    "sns.displot(x=df['cleanliness'])\n",
    "# most customers gave a rating of 4, while few customer did not give the rating"
   ]
  },
  {
   "cell_type": "markdown",
   "id": "0e74b4c8",
   "metadata": {},
   "source": [
    "### Online boarding\tRating of online boarding satisfaction (1 to 5)."
   ]
  },
  {
   "cell_type": "code",
   "execution_count": 40,
   "id": "9f4def7e",
   "metadata": {
    "scrolled": true
   },
   "outputs": [
    {
     "name": "stderr",
     "output_type": "stream",
     "text": [
      "C:\\Users\\odhia\\AppData\\Local\\anaconda3\\lib\\site-packages\\seaborn\\_oldcore.py:1119: FutureWarning: use_inf_as_na option is deprecated and will be removed in a future version. Convert inf values to NaN before operating instead.\n",
      "  with pd.option_context('mode.use_inf_as_na', True):\n"
     ]
    },
    {
     "data": {
      "text/plain": [
       "<seaborn.axisgrid.FacetGrid at 0x255256d5ab0>"
      ]
     },
     "execution_count": 40,
     "metadata": {},
     "output_type": "execute_result"
    },
    {
     "data": {
      "image/png": "[encoded data removed]",
      "text/plain": [
       "<Figure size 500x500 with 1 Axes>"
      ]
     },
     "metadata": {},
     "output_type": "display_data"
    }
   ],
   "source": [
    "sns.displot(x=df[ 'online boarding'])\n",
    "# most customers gave a rating of 4, while few customer did not give the rating"
   ]
  },
  {
   "cell_type": "markdown",
   "id": "066b8164",
   "metadata": {},
   "source": [
    "### Departure Delay in Minutes\tTotal departure delay in minutes."
   ]
  },
  {
   "cell_type": "code",
   "execution_count": 41,
   "id": "9a65214c",
   "metadata": {},
   "outputs": [
    {
     "name": "stdout",
     "output_type": "stream",
     "text": [
      "The maximum time a plane can delay to depature is 1592 minutes\n",
      "The minimum time a plane can delay to depature is 0 minutes\n",
      "**************************************************\n",
      "The maximum time a plane can delay to arrive is 1584.0 minutes\n",
      "The minimum time a plane can delay to arrive is 0.0 minutes\n"
     ]
    }
   ],
   "source": [
    "print(f\"The maximum time a plane can delay to depature is {df['departure delay in minutes'].max()} minutes\")\n",
    "print(f\"The minimum time a plane can delay to depature is {df['departure delay in minutes'].min()} minutes\")\n",
    "print('*'*50)\n",
    "print(f\"The maximum time a plane can delay to arrive is {df['arrival delay in minutes'].max()} minutes\")\n",
    "print(f\"The minimum time a plane can delay to arrive is {df['arrival delay in minutes'].min()} minutes\")"
   ]
  },
  {
   "cell_type": "markdown",
   "id": "ea037b5d",
   "metadata": {},
   "source": [
    "### We canget rid of customers who did not give any rating"
   ]
  },
  {
   "cell_type": "code",
   "execution_count": 42,
   "id": "cad70d15",
   "metadata": {},
   "outputs": [],
   "source": [
    "rate_cols = ['seat comfort', 'departure/arrival time convenient',\n",
    "       'food and drink', 'gate location', 'inflight wifi service',\n",
    "       'inflight entertainment', 'online support', 'ease of online booking',\n",
    "       'on-board service', 'leg room service', 'baggage handling',\n",
    "       'checkin service', 'cleanliness', 'online boarding']"
   ]
  },
  {
   "cell_type": "code",
   "execution_count": 43,
   "id": "b8bc5c4e",
   "metadata": {},
   "outputs": [],
   "source": [
    "for column in rate_cols:\n",
    "    df = df[df[column]!=0]"
   ]
  },
  {
   "cell_type": "code",
   "execution_count": 44,
   "id": "4dbd1f7e",
   "metadata": {},
   "outputs": [],
   "source": [
    "df = df.sample(frac=1, random_state=42).reset_index(drop=True)"
   ]
  },
  {
   "cell_type": "code",
   "execution_count": 45,
   "id": "d3031255",
   "metadata": {},
   "outputs": [
    {
     "data": {
      "text/plain": [
       "(119611, 22)"
      ]
     },
     "execution_count": 45,
     "metadata": {},
     "output_type": "execute_result"
    }
   ],
   "source": [
    "df.shape"
   ]
  },
  {
   "cell_type": "code",
   "execution_count": 53,
   "id": "82e312b7",
   "metadata": {},
   "outputs": [],
   "source": [
    "from sklearn.preprocessing import MinMaxScaler,LabelEncoder\n",
    "from sklearn.model_selection import train_test_split\n",
    "from sklearn.linear_model import LogisticRegression\n",
    "from sklearn.tree import DecisionTreeClassifier\n",
    "from sklearn.ensemble import RandomForestClassifier\n",
    "from xgboost import XGBClassifier\n",
    "from lightgbm import LGBMClassifier\n",
    "from catboost import CatBoostClassifier\n",
    "from sklearn.neighbors import KNeighborsClassifier\n",
    "from sklearn.svm import SVC\n",
    "from sklearn.metrics import accuracy_score"
   ]
  },
  {
   "cell_type": "code",
   "execution_count": 54,
   "id": "b524a4f1",
   "metadata": {},
   "outputs": [],
   "source": [
    "encoder_cust = LabelEncoder()\n",
    "encoder_type = LabelEncoder()\n",
    "encoder_class = LabelEncoder()\n",
    "df['customer type'] = encoder_cust.fit_transform(df['customer type'])\n",
    "df['type of travel'] = encoder_type.fit_transform(df['type of travel'])\n",
    "df['class'] = encoder_class.fit_transform(df['class'])"
   ]
  },
  {
   "cell_type": "code",
   "execution_count": 55,
   "id": "4bbcc645",
   "metadata": {},
   "outputs": [],
   "source": [
    "X = df.drop('satisfaction',axis=1)\n",
    "y = df['satisfaction'].map({'dissatisfied':0,'satisfied':1})"
   ]
  },
  {
   "cell_type": "code",
   "execution_count": 56,
   "id": "27210b49",
   "metadata": {},
   "outputs": [],
   "source": [
    "X_train, X_test, y_train, y_test = train_test_split(X, y, test_size=0.25, random_state=42)"
   ]
  },
  {
   "cell_type": "code",
   "execution_count": 57,
   "id": "c935e331",
   "metadata": {},
   "outputs": [],
   "source": [
    "scaler = MinMaxScaler()\n",
    "X_train = scaler.fit_transform(X_train)\n",
    "X_test = scaler.transform(X_test)"
   ]
  },
  {
   "cell_type": "code",
   "execution_count": 58,
   "id": "dc38824e",
   "metadata": {},
   "outputs": [],
   "source": [
    "models = {\n",
    "    'Logistic Regression':LogisticRegression(),\n",
    "    'SVC':SVC(),\n",
    "    'KNeighbours':KNeighborsClassifier(),\n",
    "    'Cat Boost':CatBoostClassifier(),\n",
    "    'LGBM':LGBMClassifier(),\n",
    "    'XGB':XGBClassifier(),\n",
    "    'Decision Tree':DecisionTreeClassifier(),\n",
    "    'Random Forest':RandomForestClassifier(),  \n",
    "}"
   ]
  },
  {
   "cell_type": "code",
   "execution_count": 59,
   "id": "6e245140",
   "metadata": {},
   "outputs": [
    {
     "name": "stdout",
     "output_type": "stream",
     "text": [
      "Model list and their corresponding accuracies\n",
      "Learning rate set to 0.070274\n",
      "0:\tlearn: 0.6057039\ttotal: 1.24s\tremaining: 20m 36s\n",
      "1:\tlearn: 0.5354770\ttotal: 1.31s\tremaining: 10m 55s\n",
      "2:\tlearn: 0.4865067\ttotal: 1.35s\tremaining: 7m 29s\n",
      "3:\tlearn: 0.4453730\ttotal: 1.39s\tremaining: 5m 46s\n",
      "4:\tlearn: 0.4142381\ttotal: 1.43s\tremaining: 4m 44s\n",
      "5:\tlearn: 0.3851976\ttotal: 1.47s\tremaining: 4m 4s\n",
      "6:\tlearn: 0.3624551\ttotal: 1.51s\tremaining: 3m 34s\n",
      "7:\tlearn: 0.3401792\ttotal: 1.55s\tremaining: 3m 12s\n",
      "8:\tlearn: 0.3239612\ttotal: 1.58s\tremaining: 2m 54s\n",
      "9:\tlearn: 0.3099629\ttotal: 1.62s\tremaining: 2m 40s\n",
      "10:\tlearn: 0.2969689\ttotal: 1.66s\tremaining: 2m 29s\n",
      "11:\tlearn: 0.2806664\ttotal: 1.69s\tremaining: 2m 19s\n",
      "12:\tlearn: 0.2727450\ttotal: 1.74s\tremaining: 2m 12s\n",
      "13:\tlearn: 0.2651259\ttotal: 1.77s\tremaining: 2m 5s\n",
      "14:\tlearn: 0.2590141\ttotal: 1.81s\tremaining: 1m 58s\n",
      "15:\tlearn: 0.2488530\ttotal: 1.85s\tremaining: 1m 53s\n",
      "16:\tlearn: 0.2429636\ttotal: 1.88s\tremaining: 1m 48s\n",
      "17:\tlearn: 0.2391622\ttotal: 1.92s\tremaining: 1m 44s\n",
      "18:\tlearn: 0.2349664\ttotal: 1.97s\tremaining: 1m 41s\n",
      "19:\tlearn: 0.2314363\ttotal: 2s\tremaining: 1m 38s\n",
      "20:\tlearn: 0.2263962\ttotal: 2.04s\tremaining: 1m 35s\n",
      "21:\tlearn: 0.2227630\ttotal: 2.08s\tremaining: 1m 32s\n",
      "22:\tlearn: 0.2198822\ttotal: 2.11s\tremaining: 1m 29s\n",
      "23:\tlearn: 0.2164831\ttotal: 2.15s\tremaining: 1m 27s\n",
      "24:\tlearn: 0.2145259\ttotal: 2.19s\tremaining: 1m 25s\n",
      "25:\tlearn: 0.2129048\ttotal: 2.23s\tremaining: 1m 23s\n",
      "26:\tlearn: 0.2110721\ttotal: 2.26s\tremaining: 1m 21s\n",
      "27:\tlearn: 0.2094256\ttotal: 2.29s\tremaining: 1m 19s\n",
      "28:\tlearn: 0.2057430\ttotal: 2.33s\tremaining: 1m 17s\n",
      "29:\tlearn: 0.2043145\ttotal: 2.36s\tremaining: 1m 16s\n",
      "30:\tlearn: 0.2014588\ttotal: 2.4s\tremaining: 1m 14s\n",
      "31:\tlearn: 0.1999061\ttotal: 2.43s\tremaining: 1m 13s\n",
      "32:\tlearn: 0.1990607\ttotal: 2.47s\tremaining: 1m 12s\n",
      "33:\tlearn: 0.1976274\ttotal: 2.5s\tremaining: 1m 11s\n",
      "34:\tlearn: 0.1950120\ttotal: 2.54s\tremaining: 1m 9s\n",
      "35:\tlearn: 0.1933483\ttotal: 2.58s\tremaining: 1m 9s\n",
      "36:\tlearn: 0.1912045\ttotal: 2.61s\tremaining: 1m 8s\n",
      "37:\tlearn: 0.1887520\ttotal: 2.65s\tremaining: 1m 7s\n",
      "38:\tlearn: 0.1877123\ttotal: 2.69s\tremaining: 1m 6s\n",
      "39:\tlearn: 0.1863051\ttotal: 2.72s\tremaining: 1m 5s\n",
      "40:\tlearn: 0.1850450\ttotal: 2.75s\tremaining: 1m 4s\n",
      "41:\tlearn: 0.1821374\ttotal: 2.78s\tremaining: 1m 3s\n",
      "42:\tlearn: 0.1806095\ttotal: 2.81s\tremaining: 1m 2s\n",
      "43:\tlearn: 0.1797159\ttotal: 2.86s\tremaining: 1m 2s\n",
      "44:\tlearn: 0.1783265\ttotal: 2.89s\tremaining: 1m 1s\n",
      "45:\tlearn: 0.1768864\ttotal: 2.92s\tremaining: 1m\n",
      "46:\tlearn: 0.1746478\ttotal: 2.96s\tremaining: 60s\n",
      "47:\tlearn: 0.1730908\ttotal: 2.99s\tremaining: 59.4s\n",
      "48:\tlearn: 0.1720410\ttotal: 3.02s\tremaining: 58.7s\n",
      "49:\tlearn: 0.1712205\ttotal: 3.06s\tremaining: 58.1s\n",
      "50:\tlearn: 0.1705622\ttotal: 3.1s\tremaining: 57.6s\n",
      "51:\tlearn: 0.1696052\ttotal: 3.13s\tremaining: 57.1s\n",
      "52:\tlearn: 0.1689177\ttotal: 3.16s\tremaining: 56.5s\n",
      "53:\tlearn: 0.1682708\ttotal: 3.2s\tremaining: 56s\n",
      "54:\tlearn: 0.1669959\ttotal: 3.23s\tremaining: 55.5s\n",
      "55:\tlearn: 0.1664797\ttotal: 3.26s\tremaining: 55s\n",
      "56:\tlearn: 0.1655763\ttotal: 3.3s\tremaining: 54.5s\n",
      "57:\tlearn: 0.1636674\ttotal: 3.33s\tremaining: 54.1s\n",
      "58:\tlearn: 0.1626571\ttotal: 3.36s\tremaining: 53.6s\n",
      "59:\tlearn: 0.1619047\ttotal: 3.4s\tremaining: 53.3s\n",
      "60:\tlearn: 0.1614451\ttotal: 3.44s\tremaining: 52.9s\n",
      "61:\tlearn: 0.1606520\ttotal: 3.46s\tremaining: 52.4s\n",
      "62:\tlearn: 0.1593154\ttotal: 3.5s\tremaining: 52s\n",
      "63:\tlearn: 0.1586879\ttotal: 3.53s\tremaining: 51.6s\n",
      "64:\tlearn: 0.1582123\ttotal: 3.57s\tremaining: 51.4s\n",
      "65:\tlearn: 0.1569642\ttotal: 3.61s\tremaining: 51s\n",
      "66:\tlearn: 0.1558040\ttotal: 3.64s\tremaining: 50.7s\n",
      "67:\tlearn: 0.1550510\ttotal: 3.67s\tremaining: 50.4s\n",
      "68:\tlearn: 0.1543640\ttotal: 3.71s\tremaining: 50s\n",
      "69:\tlearn: 0.1538256\ttotal: 3.74s\tremaining: 49.7s\n",
      "70:\tlearn: 0.1530417\ttotal: 3.77s\tremaining: 49.4s\n",
      "71:\tlearn: 0.1523671\ttotal: 3.82s\tremaining: 49.3s\n",
      "72:\tlearn: 0.1519246\ttotal: 3.85s\tremaining: 49s\n",
      "73:\tlearn: 0.1514814\ttotal: 3.89s\tremaining: 48.7s\n",
      "74:\tlearn: 0.1511077\ttotal: 3.93s\tremaining: 48.4s\n",
      "75:\tlearn: 0.1504922\ttotal: 3.97s\tremaining: 48.2s\n",
      "76:\tlearn: 0.1497709\ttotal: 4s\tremaining: 48s\n",
      "77:\tlearn: 0.1493317\ttotal: 4.04s\tremaining: 47.8s\n",
      "78:\tlearn: 0.1490916\ttotal: 4.08s\tremaining: 47.6s\n",
      "79:\tlearn: 0.1484088\ttotal: 4.12s\tremaining: 47.4s\n",
      "80:\tlearn: 0.1476705\ttotal: 4.16s\tremaining: 47.2s\n",
      "81:\tlearn: 0.1472286\ttotal: 4.2s\tremaining: 47s\n",
      "82:\tlearn: 0.1467561\ttotal: 4.23s\tremaining: 46.8s\n",
      "83:\tlearn: 0.1466146\ttotal: 4.27s\tremaining: 46.6s\n",
      "84:\tlearn: 0.1460510\ttotal: 4.31s\tremaining: 46.4s\n",
      "85:\tlearn: 0.1458185\ttotal: 4.34s\tremaining: 46.2s\n",
      "86:\tlearn: 0.1452256\ttotal: 4.38s\tremaining: 46s\n",
      "87:\tlearn: 0.1447411\ttotal: 4.41s\tremaining: 45.7s\n",
      "88:\tlearn: 0.1444072\ttotal: 4.45s\tremaining: 45.5s\n",
      "89:\tlearn: 0.1436124\ttotal: 4.49s\tremaining: 45.4s\n",
      "90:\tlearn: 0.1427351\ttotal: 4.53s\tremaining: 45.3s\n",
      "91:\tlearn: 0.1422582\ttotal: 4.57s\tremaining: 45.1s\n",
      "92:\tlearn: 0.1416885\ttotal: 4.6s\tremaining: 44.9s\n",
      "93:\tlearn: 0.1409744\ttotal: 4.64s\tremaining: 44.7s\n",
      "94:\tlearn: 0.1405391\ttotal: 4.67s\tremaining: 44.5s\n",
      "95:\tlearn: 0.1399182\ttotal: 4.71s\tremaining: 44.4s\n",
      "96:\tlearn: 0.1395429\ttotal: 4.75s\tremaining: 44.2s\n",
      "97:\tlearn: 0.1392095\ttotal: 4.78s\tremaining: 44s\n",
      "98:\tlearn: 0.1388824\ttotal: 4.82s\tremaining: 43.9s\n",
      "99:\tlearn: 0.1383746\ttotal: 4.85s\tremaining: 43.7s\n",
      "100:\tlearn: 0.1380068\ttotal: 4.89s\tremaining: 43.5s\n",
      "101:\tlearn: 0.1371061\ttotal: 4.93s\tremaining: 43.4s\n",
      "102:\tlearn: 0.1367204\ttotal: 4.97s\tremaining: 43.3s\n",
      "103:\tlearn: 0.1357787\ttotal: 5s\tremaining: 43.1s\n",
      "104:\tlearn: 0.1351697\ttotal: 5.04s\tremaining: 42.9s\n",
      "105:\tlearn: 0.1346028\ttotal: 5.07s\tremaining: 42.8s\n",
      "106:\tlearn: 0.1343894\ttotal: 5.1s\tremaining: 42.6s\n",
      "107:\tlearn: 0.1341767\ttotal: 5.14s\tremaining: 42.5s\n",
      "108:\tlearn: 0.1338906\ttotal: 5.2s\tremaining: 42.5s\n",
      "109:\tlearn: 0.1336289\ttotal: 5.23s\tremaining: 42.3s\n",
      "110:\tlearn: 0.1329354\ttotal: 5.27s\tremaining: 42.2s\n",
      "111:\tlearn: 0.1325909\ttotal: 5.31s\tremaining: 42.1s\n",
      "112:\tlearn: 0.1318669\ttotal: 5.35s\tremaining: 42s\n",
      "113:\tlearn: 0.1316955\ttotal: 5.39s\tremaining: 41.9s\n",
      "114:\tlearn: 0.1313902\ttotal: 5.45s\tremaining: 41.9s\n",
      "115:\tlearn: 0.1310031\ttotal: 5.5s\tremaining: 41.9s\n",
      "116:\tlearn: 0.1306038\ttotal: 5.54s\tremaining: 41.8s\n",
      "117:\tlearn: 0.1299515\ttotal: 5.58s\tremaining: 41.7s\n",
      "118:\tlearn: 0.1297513\ttotal: 5.62s\tremaining: 41.6s\n",
      "119:\tlearn: 0.1294150\ttotal: 5.66s\tremaining: 41.5s\n",
      "120:\tlearn: 0.1291269\ttotal: 5.69s\tremaining: 41.4s\n",
      "121:\tlearn: 0.1289232\ttotal: 5.75s\tremaining: 41.4s\n",
      "122:\tlearn: 0.1287574\ttotal: 5.8s\tremaining: 41.4s\n",
      "123:\tlearn: 0.1284155\ttotal: 5.85s\tremaining: 41.3s\n",
      "124:\tlearn: 0.1281155\ttotal: 5.89s\tremaining: 41.2s\n",
      "125:\tlearn: 0.1277474\ttotal: 5.93s\tremaining: 41.1s\n",
      "126:\tlearn: 0.1275246\ttotal: 5.97s\tremaining: 41s\n",
      "127:\tlearn: 0.1272455\ttotal: 6.02s\tremaining: 41s\n",
      "128:\tlearn: 0.1267813\ttotal: 6.06s\tremaining: 40.9s\n",
      "129:\tlearn: 0.1265976\ttotal: 6.1s\tremaining: 40.8s\n",
      "130:\tlearn: 0.1262719\ttotal: 6.14s\tremaining: 40.7s\n",
      "131:\tlearn: 0.1260555\ttotal: 6.18s\tremaining: 40.6s\n",
      "132:\tlearn: 0.1256422\ttotal: 6.23s\tremaining: 40.6s\n",
      "133:\tlearn: 0.1251792\ttotal: 6.26s\tremaining: 40.5s\n",
      "134:\tlearn: 0.1244590\ttotal: 6.3s\tremaining: 40.4s\n",
      "135:\tlearn: 0.1242022\ttotal: 6.34s\tremaining: 40.3s\n",
      "136:\tlearn: 0.1240062\ttotal: 6.38s\tremaining: 40.2s\n",
      "137:\tlearn: 0.1234651\ttotal: 6.43s\tremaining: 40.1s\n",
      "138:\tlearn: 0.1231750\ttotal: 6.46s\tremaining: 40s\n",
      "139:\tlearn: 0.1229950\ttotal: 6.5s\tremaining: 40s\n",
      "140:\tlearn: 0.1226681\ttotal: 6.55s\tremaining: 39.9s\n",
      "141:\tlearn: 0.1223748\ttotal: 6.59s\tremaining: 39.8s\n",
      "142:\tlearn: 0.1221534\ttotal: 6.64s\tremaining: 39.8s\n",
      "143:\tlearn: 0.1219165\ttotal: 6.73s\tremaining: 40s\n",
      "144:\tlearn: 0.1215980\ttotal: 6.78s\tremaining: 40s\n",
      "145:\tlearn: 0.1213182\ttotal: 6.83s\tremaining: 39.9s\n",
      "146:\tlearn: 0.1211428\ttotal: 6.9s\tremaining: 40s\n",
      "147:\tlearn: 0.1208092\ttotal: 6.97s\tremaining: 40.1s\n",
      "148:\tlearn: 0.1203708\ttotal: 7.01s\tremaining: 40.1s\n",
      "149:\tlearn: 0.1202721\ttotal: 7.06s\tremaining: 40s\n",
      "150:\tlearn: 0.1199943\ttotal: 7.1s\tremaining: 39.9s\n",
      "151:\tlearn: 0.1199168\ttotal: 7.15s\tremaining: 39.9s\n",
      "152:\tlearn: 0.1197758\ttotal: 7.19s\tremaining: 39.8s\n",
      "153:\tlearn: 0.1196040\ttotal: 7.22s\tremaining: 39.7s\n",
      "154:\tlearn: 0.1193635\ttotal: 7.26s\tremaining: 39.6s\n",
      "155:\tlearn: 0.1192789\ttotal: 7.3s\tremaining: 39.5s\n",
      "156:\tlearn: 0.1188800\ttotal: 7.35s\tremaining: 39.5s\n",
      "157:\tlearn: 0.1187076\ttotal: 7.39s\tremaining: 39.4s\n",
      "158:\tlearn: 0.1184325\ttotal: 7.42s\tremaining: 39.3s\n",
      "159:\tlearn: 0.1183040\ttotal: 7.46s\tremaining: 39.2s\n",
      "160:\tlearn: 0.1181479\ttotal: 7.5s\tremaining: 39.1s\n",
      "161:\tlearn: 0.1177376\ttotal: 7.54s\tremaining: 39s\n"
     ]
    },
    {
     "name": "stdout",
     "output_type": "stream",
     "text": [
      "162:\tlearn: 0.1175096\ttotal: 7.58s\tremaining: 38.9s\n",
      "163:\tlearn: 0.1168109\ttotal: 7.67s\tremaining: 39.1s\n",
      "164:\tlearn: 0.1166659\ttotal: 7.71s\tremaining: 39s\n",
      "165:\tlearn: 0.1164120\ttotal: 7.74s\tremaining: 38.9s\n",
      "166:\tlearn: 0.1161625\ttotal: 7.79s\tremaining: 38.9s\n",
      "167:\tlearn: 0.1159796\ttotal: 7.85s\tremaining: 38.9s\n",
      "168:\tlearn: 0.1158626\ttotal: 7.9s\tremaining: 38.8s\n",
      "169:\tlearn: 0.1156981\ttotal: 7.95s\tremaining: 38.8s\n",
      "170:\tlearn: 0.1155225\ttotal: 8s\tremaining: 38.8s\n",
      "171:\tlearn: 0.1153876\ttotal: 8.04s\tremaining: 38.7s\n",
      "172:\tlearn: 0.1152708\ttotal: 8.08s\tremaining: 38.6s\n",
      "173:\tlearn: 0.1151244\ttotal: 8.11s\tremaining: 38.5s\n",
      "174:\tlearn: 0.1150051\ttotal: 8.15s\tremaining: 38.4s\n",
      "175:\tlearn: 0.1149344\ttotal: 8.18s\tremaining: 38.3s\n",
      "176:\tlearn: 0.1148187\ttotal: 8.24s\tremaining: 38.3s\n",
      "177:\tlearn: 0.1146296\ttotal: 8.28s\tremaining: 38.2s\n",
      "178:\tlearn: 0.1144067\ttotal: 8.31s\tremaining: 38.1s\n",
      "179:\tlearn: 0.1141722\ttotal: 8.35s\tremaining: 38s\n",
      "180:\tlearn: 0.1140202\ttotal: 8.4s\tremaining: 38s\n",
      "181:\tlearn: 0.1138998\ttotal: 8.45s\tremaining: 38s\n",
      "182:\tlearn: 0.1136869\ttotal: 8.51s\tremaining: 38s\n",
      "183:\tlearn: 0.1135524\ttotal: 8.56s\tremaining: 38s\n",
      "184:\tlearn: 0.1132330\ttotal: 8.62s\tremaining: 38s\n",
      "185:\tlearn: 0.1131106\ttotal: 8.67s\tremaining: 37.9s\n",
      "186:\tlearn: 0.1129729\ttotal: 8.71s\tremaining: 37.9s\n",
      "187:\tlearn: 0.1128401\ttotal: 8.75s\tremaining: 37.8s\n",
      "188:\tlearn: 0.1126944\ttotal: 8.79s\tremaining: 37.7s\n",
      "189:\tlearn: 0.1125622\ttotal: 8.83s\tremaining: 37.6s\n",
      "190:\tlearn: 0.1123096\ttotal: 8.86s\tremaining: 37.5s\n",
      "191:\tlearn: 0.1122070\ttotal: 8.9s\tremaining: 37.4s\n",
      "192:\tlearn: 0.1120170\ttotal: 8.96s\tremaining: 37.5s\n",
      "193:\tlearn: 0.1118918\ttotal: 9.03s\tremaining: 37.5s\n",
      "194:\tlearn: 0.1117254\ttotal: 9.09s\tremaining: 37.5s\n",
      "195:\tlearn: 0.1116551\ttotal: 9.14s\tremaining: 37.5s\n",
      "196:\tlearn: 0.1115790\ttotal: 9.18s\tremaining: 37.4s\n",
      "197:\tlearn: 0.1114591\ttotal: 9.23s\tremaining: 37.4s\n",
      "198:\tlearn: 0.1113080\ttotal: 9.27s\tremaining: 37.3s\n",
      "199:\tlearn: 0.1111786\ttotal: 9.3s\tremaining: 37.2s\n",
      "200:\tlearn: 0.1110345\ttotal: 9.34s\tremaining: 37.1s\n",
      "201:\tlearn: 0.1108132\ttotal: 9.37s\tremaining: 37s\n",
      "202:\tlearn: 0.1107289\ttotal: 9.42s\tremaining: 37s\n",
      "203:\tlearn: 0.1106452\ttotal: 9.46s\tremaining: 36.9s\n",
      "204:\tlearn: 0.1105130\ttotal: 9.5s\tremaining: 36.8s\n",
      "205:\tlearn: 0.1104042\ttotal: 9.54s\tremaining: 36.8s\n",
      "206:\tlearn: 0.1102936\ttotal: 9.57s\tremaining: 36.7s\n",
      "207:\tlearn: 0.1101586\ttotal: 9.61s\tremaining: 36.6s\n",
      "208:\tlearn: 0.1100607\ttotal: 9.65s\tremaining: 36.5s\n",
      "209:\tlearn: 0.1099664\ttotal: 9.68s\tremaining: 36.4s\n",
      "210:\tlearn: 0.1099007\ttotal: 9.72s\tremaining: 36.3s\n",
      "211:\tlearn: 0.1098416\ttotal: 9.75s\tremaining: 36.3s\n",
      "212:\tlearn: 0.1096914\ttotal: 9.79s\tremaining: 36.2s\n",
      "213:\tlearn: 0.1096079\ttotal: 9.83s\tremaining: 36.1s\n",
      "214:\tlearn: 0.1094709\ttotal: 9.87s\tremaining: 36s\n",
      "215:\tlearn: 0.1094418\ttotal: 9.91s\tremaining: 36s\n",
      "216:\tlearn: 0.1092105\ttotal: 9.95s\tremaining: 35.9s\n",
      "217:\tlearn: 0.1090952\ttotal: 9.98s\tremaining: 35.8s\n",
      "218:\tlearn: 0.1089362\ttotal: 10s\tremaining: 35.7s\n",
      "219:\tlearn: 0.1088433\ttotal: 10.1s\tremaining: 35.6s\n",
      "220:\tlearn: 0.1085865\ttotal: 10.1s\tremaining: 35.6s\n",
      "221:\tlearn: 0.1084873\ttotal: 10.1s\tremaining: 35.5s\n",
      "222:\tlearn: 0.1081714\ttotal: 10.2s\tremaining: 35.4s\n",
      "223:\tlearn: 0.1080421\ttotal: 10.2s\tremaining: 35.3s\n",
      "224:\tlearn: 0.1079865\ttotal: 10.2s\tremaining: 35.2s\n",
      "225:\tlearn: 0.1078444\ttotal: 10.3s\tremaining: 35.2s\n",
      "226:\tlearn: 0.1077202\ttotal: 10.3s\tremaining: 35.1s\n",
      "227:\tlearn: 0.1076406\ttotal: 10.3s\tremaining: 35s\n",
      "228:\tlearn: 0.1075600\ttotal: 10.4s\tremaining: 34.9s\n",
      "229:\tlearn: 0.1074840\ttotal: 10.4s\tremaining: 34.9s\n",
      "230:\tlearn: 0.1074216\ttotal: 10.4s\tremaining: 34.8s\n",
      "231:\tlearn: 0.1072860\ttotal: 10.5s\tremaining: 34.7s\n",
      "232:\tlearn: 0.1071540\ttotal: 10.5s\tremaining: 34.6s\n",
      "233:\tlearn: 0.1071012\ttotal: 10.6s\tremaining: 34.5s\n",
      "234:\tlearn: 0.1070248\ttotal: 10.6s\tremaining: 34.5s\n",
      "235:\tlearn: 0.1069449\ttotal: 10.6s\tremaining: 34.5s\n",
      "236:\tlearn: 0.1068429\ttotal: 10.7s\tremaining: 34.5s\n",
      "237:\tlearn: 0.1067440\ttotal: 10.8s\tremaining: 34.5s\n",
      "238:\tlearn: 0.1066279\ttotal: 10.8s\tremaining: 34.5s\n",
      "239:\tlearn: 0.1063164\ttotal: 10.9s\tremaining: 34.4s\n",
      "240:\tlearn: 0.1062914\ttotal: 10.9s\tremaining: 34.3s\n",
      "241:\tlearn: 0.1061258\ttotal: 10.9s\tremaining: 34.2s\n",
      "242:\tlearn: 0.1060128\ttotal: 11s\tremaining: 34.2s\n",
      "243:\tlearn: 0.1058676\ttotal: 11s\tremaining: 34.1s\n",
      "244:\tlearn: 0.1057881\ttotal: 11.1s\tremaining: 34.1s\n",
      "245:\tlearn: 0.1057084\ttotal: 11.1s\tremaining: 34s\n",
      "246:\tlearn: 0.1055728\ttotal: 11.1s\tremaining: 33.9s\n",
      "247:\tlearn: 0.1054529\ttotal: 11.2s\tremaining: 33.8s\n",
      "248:\tlearn: 0.1052845\ttotal: 11.2s\tremaining: 33.7s\n",
      "249:\tlearn: 0.1051571\ttotal: 11.2s\tremaining: 33.7s\n",
      "250:\tlearn: 0.1050619\ttotal: 11.3s\tremaining: 33.7s\n",
      "251:\tlearn: 0.1050024\ttotal: 11.4s\tremaining: 33.7s\n",
      "252:\tlearn: 0.1049328\ttotal: 11.4s\tremaining: 33.7s\n",
      "253:\tlearn: 0.1048586\ttotal: 11.4s\tremaining: 33.6s\n",
      "254:\tlearn: 0.1048075\ttotal: 11.5s\tremaining: 33.5s\n",
      "255:\tlearn: 0.1046715\ttotal: 11.5s\tremaining: 33.5s\n",
      "256:\tlearn: 0.1045588\ttotal: 11.6s\tremaining: 33.4s\n",
      "257:\tlearn: 0.1044740\ttotal: 11.6s\tremaining: 33.3s\n",
      "258:\tlearn: 0.1044424\ttotal: 11.6s\tremaining: 33.3s\n",
      "259:\tlearn: 0.1042671\ttotal: 11.7s\tremaining: 33.2s\n",
      "260:\tlearn: 0.1041641\ttotal: 11.7s\tremaining: 33.1s\n",
      "261:\tlearn: 0.1040840\ttotal: 11.7s\tremaining: 33.1s\n",
      "262:\tlearn: 0.1038749\ttotal: 11.8s\tremaining: 33s\n",
      "263:\tlearn: 0.1037933\ttotal: 11.8s\tremaining: 32.9s\n",
      "264:\tlearn: 0.1037475\ttotal: 11.8s\tremaining: 32.8s\n",
      "265:\tlearn: 0.1036668\ttotal: 11.9s\tremaining: 32.8s\n",
      "266:\tlearn: 0.1035878\ttotal: 11.9s\tremaining: 32.7s\n",
      "267:\tlearn: 0.1035510\ttotal: 11.9s\tremaining: 32.6s\n",
      "268:\tlearn: 0.1034701\ttotal: 12s\tremaining: 32.6s\n",
      "269:\tlearn: 0.1034026\ttotal: 12s\tremaining: 32.5s\n",
      "270:\tlearn: 0.1033377\ttotal: 12s\tremaining: 32.4s\n",
      "271:\tlearn: 0.1032871\ttotal: 12.1s\tremaining: 32.3s\n",
      "272:\tlearn: 0.1032080\ttotal: 12.1s\tremaining: 32.3s\n",
      "273:\tlearn: 0.1030864\ttotal: 12.2s\tremaining: 32.2s\n",
      "274:\tlearn: 0.1029923\ttotal: 12.2s\tremaining: 32.2s\n",
      "275:\tlearn: 0.1029545\ttotal: 12.2s\tremaining: 32.1s\n",
      "276:\tlearn: 0.1029326\ttotal: 12.3s\tremaining: 32s\n",
      "277:\tlearn: 0.1028862\ttotal: 12.3s\tremaining: 31.9s\n",
      "278:\tlearn: 0.1028434\ttotal: 12.3s\tremaining: 31.9s\n",
      "279:\tlearn: 0.1028014\ttotal: 12.4s\tremaining: 31.8s\n",
      "280:\tlearn: 0.1027469\ttotal: 12.4s\tremaining: 31.7s\n",
      "281:\tlearn: 0.1026576\ttotal: 12.4s\tremaining: 31.7s\n",
      "282:\tlearn: 0.1024954\ttotal: 12.5s\tremaining: 31.6s\n",
      "283:\tlearn: 0.1024107\ttotal: 12.5s\tremaining: 31.5s\n",
      "284:\tlearn: 0.1023512\ttotal: 12.6s\tremaining: 31.5s\n",
      "285:\tlearn: 0.1023145\ttotal: 12.6s\tremaining: 31.5s\n",
      "286:\tlearn: 0.1022231\ttotal: 12.7s\tremaining: 31.5s\n",
      "287:\tlearn: 0.1019508\ttotal: 12.7s\tremaining: 31.4s\n",
      "288:\tlearn: 0.1018288\ttotal: 12.7s\tremaining: 31.3s\n",
      "289:\tlearn: 0.1017365\ttotal: 12.8s\tremaining: 31.3s\n",
      "290:\tlearn: 0.1017053\ttotal: 12.8s\tremaining: 31.2s\n",
      "291:\tlearn: 0.1016480\ttotal: 12.9s\tremaining: 31.2s\n",
      "292:\tlearn: 0.1015965\ttotal: 12.9s\tremaining: 31.1s\n",
      "293:\tlearn: 0.1014382\ttotal: 12.9s\tremaining: 31.1s\n",
      "294:\tlearn: 0.1013632\ttotal: 13s\tremaining: 31s\n",
      "295:\tlearn: 0.1012896\ttotal: 13s\tremaining: 31s\n",
      "296:\tlearn: 0.1012119\ttotal: 13.1s\tremaining: 30.9s\n",
      "297:\tlearn: 0.1011842\ttotal: 13.1s\tremaining: 30.8s\n",
      "298:\tlearn: 0.1011515\ttotal: 13.1s\tremaining: 30.8s\n",
      "299:\tlearn: 0.1011025\ttotal: 13.2s\tremaining: 30.7s\n",
      "300:\tlearn: 0.1010510\ttotal: 13.2s\tremaining: 30.7s\n",
      "301:\tlearn: 0.1009460\ttotal: 13.2s\tremaining: 30.6s\n",
      "302:\tlearn: 0.1008848\ttotal: 13.3s\tremaining: 30.6s\n",
      "303:\tlearn: 0.1007786\ttotal: 13.3s\tremaining: 30.5s\n",
      "304:\tlearn: 0.1007389\ttotal: 13.4s\tremaining: 30.4s\n",
      "305:\tlearn: 0.1006509\ttotal: 13.4s\tremaining: 30.4s\n",
      "306:\tlearn: 0.1005832\ttotal: 13.4s\tremaining: 30.3s\n",
      "307:\tlearn: 0.1005253\ttotal: 13.5s\tremaining: 30.3s\n",
      "308:\tlearn: 0.1004275\ttotal: 13.5s\tremaining: 30.2s\n",
      "309:\tlearn: 0.1003641\ttotal: 13.5s\tremaining: 30.1s\n",
      "310:\tlearn: 0.1003012\ttotal: 13.6s\tremaining: 30.1s\n",
      "311:\tlearn: 0.1001769\ttotal: 13.6s\tremaining: 30s\n",
      "312:\tlearn: 0.1001324\ttotal: 13.6s\tremaining: 29.9s\n",
      "313:\tlearn: 0.1000756\ttotal: 13.7s\tremaining: 29.9s\n",
      "314:\tlearn: 0.1000337\ttotal: 13.7s\tremaining: 29.8s\n",
      "315:\tlearn: 0.0999804\ttotal: 13.7s\tremaining: 29.8s\n",
      "316:\tlearn: 0.0998852\ttotal: 13.8s\tremaining: 29.7s\n",
      "317:\tlearn: 0.0998231\ttotal: 13.8s\tremaining: 29.6s\n",
      "318:\tlearn: 0.0997387\ttotal: 13.8s\tremaining: 29.6s\n",
      "319:\tlearn: 0.0996754\ttotal: 13.9s\tremaining: 29.5s\n",
      "320:\tlearn: 0.0996511\ttotal: 13.9s\tremaining: 29.5s\n",
      "321:\tlearn: 0.0995642\ttotal: 14s\tremaining: 29.4s\n",
      "322:\tlearn: 0.0994953\ttotal: 14s\tremaining: 29.3s\n",
      "323:\tlearn: 0.0994514\ttotal: 14s\tremaining: 29.3s\n",
      "324:\tlearn: 0.0993400\ttotal: 14.1s\tremaining: 29.2s\n"
     ]
    },
    {
     "name": "stdout",
     "output_type": "stream",
     "text": [
      "325:\tlearn: 0.0993144\ttotal: 14.1s\tremaining: 29.1s\n",
      "326:\tlearn: 0.0992284\ttotal: 14.1s\tremaining: 29.1s\n",
      "327:\tlearn: 0.0991648\ttotal: 14.2s\tremaining: 29s\n",
      "328:\tlearn: 0.0990708\ttotal: 14.2s\tremaining: 29s\n",
      "329:\tlearn: 0.0990357\ttotal: 14.2s\tremaining: 28.9s\n",
      "330:\tlearn: 0.0989385\ttotal: 14.3s\tremaining: 28.9s\n",
      "331:\tlearn: 0.0988273\ttotal: 14.3s\tremaining: 28.8s\n",
      "332:\tlearn: 0.0987713\ttotal: 14.4s\tremaining: 28.7s\n",
      "333:\tlearn: 0.0987068\ttotal: 14.4s\tremaining: 28.7s\n",
      "334:\tlearn: 0.0986780\ttotal: 14.4s\tremaining: 28.6s\n",
      "335:\tlearn: 0.0986271\ttotal: 14.5s\tremaining: 28.6s\n",
      "336:\tlearn: 0.0985899\ttotal: 14.5s\tremaining: 28.5s\n",
      "337:\tlearn: 0.0985329\ttotal: 14.5s\tremaining: 28.4s\n",
      "338:\tlearn: 0.0984642\ttotal: 14.6s\tremaining: 28.4s\n",
      "339:\tlearn: 0.0983458\ttotal: 14.6s\tremaining: 28.3s\n",
      "340:\tlearn: 0.0983117\ttotal: 14.6s\tremaining: 28.3s\n",
      "341:\tlearn: 0.0982760\ttotal: 14.7s\tremaining: 28.2s\n",
      "342:\tlearn: 0.0982016\ttotal: 14.7s\tremaining: 28.2s\n",
      "343:\tlearn: 0.0981730\ttotal: 14.7s\tremaining: 28.1s\n",
      "344:\tlearn: 0.0980986\ttotal: 14.8s\tremaining: 28s\n",
      "345:\tlearn: 0.0980429\ttotal: 14.8s\tremaining: 28s\n",
      "346:\tlearn: 0.0979737\ttotal: 14.8s\tremaining: 27.9s\n",
      "347:\tlearn: 0.0979451\ttotal: 14.9s\tremaining: 27.9s\n",
      "348:\tlearn: 0.0979239\ttotal: 14.9s\tremaining: 27.8s\n",
      "349:\tlearn: 0.0978629\ttotal: 14.9s\tremaining: 27.8s\n",
      "350:\tlearn: 0.0977834\ttotal: 15s\tremaining: 27.7s\n",
      "351:\tlearn: 0.0977380\ttotal: 15s\tremaining: 27.6s\n",
      "352:\tlearn: 0.0976802\ttotal: 15.1s\tremaining: 27.6s\n",
      "353:\tlearn: 0.0975708\ttotal: 15.1s\tremaining: 27.5s\n",
      "354:\tlearn: 0.0975479\ttotal: 15.1s\tremaining: 27.5s\n",
      "355:\tlearn: 0.0974412\ttotal: 15.2s\tremaining: 27.4s\n",
      "356:\tlearn: 0.0974033\ttotal: 15.2s\tremaining: 27.3s\n",
      "357:\tlearn: 0.0973525\ttotal: 15.2s\tremaining: 27.3s\n",
      "358:\tlearn: 0.0972402\ttotal: 15.3s\tremaining: 27.2s\n",
      "359:\tlearn: 0.0971871\ttotal: 15.3s\tremaining: 27.2s\n",
      "360:\tlearn: 0.0971449\ttotal: 15.3s\tremaining: 27.1s\n",
      "361:\tlearn: 0.0971095\ttotal: 15.4s\tremaining: 27.1s\n",
      "362:\tlearn: 0.0969270\ttotal: 15.4s\tremaining: 27s\n",
      "363:\tlearn: 0.0969057\ttotal: 15.4s\tremaining: 27s\n",
      "364:\tlearn: 0.0968218\ttotal: 15.5s\tremaining: 26.9s\n",
      "365:\tlearn: 0.0967963\ttotal: 15.5s\tremaining: 26.8s\n",
      "366:\tlearn: 0.0966547\ttotal: 15.5s\tremaining: 26.8s\n",
      "367:\tlearn: 0.0966011\ttotal: 15.6s\tremaining: 26.7s\n",
      "368:\tlearn: 0.0965181\ttotal: 15.6s\tremaining: 26.7s\n",
      "369:\tlearn: 0.0964706\ttotal: 15.6s\tremaining: 26.6s\n",
      "370:\tlearn: 0.0964273\ttotal: 15.7s\tremaining: 26.6s\n",
      "371:\tlearn: 0.0963875\ttotal: 15.7s\tremaining: 26.5s\n",
      "372:\tlearn: 0.0963331\ttotal: 15.7s\tremaining: 26.5s\n",
      "373:\tlearn: 0.0962588\ttotal: 15.8s\tremaining: 26.4s\n",
      "374:\tlearn: 0.0962077\ttotal: 15.8s\tremaining: 26.3s\n",
      "375:\tlearn: 0.0962060\ttotal: 15.8s\tremaining: 26.3s\n",
      "376:\tlearn: 0.0960959\ttotal: 15.9s\tremaining: 26.2s\n",
      "377:\tlearn: 0.0960551\ttotal: 15.9s\tremaining: 26.2s\n",
      "378:\tlearn: 0.0959607\ttotal: 16s\tremaining: 26.1s\n",
      "379:\tlearn: 0.0959236\ttotal: 16s\tremaining: 26.1s\n",
      "380:\tlearn: 0.0958653\ttotal: 16s\tremaining: 26s\n",
      "381:\tlearn: 0.0957957\ttotal: 16.1s\tremaining: 26s\n",
      "382:\tlearn: 0.0957641\ttotal: 16.1s\tremaining: 25.9s\n",
      "383:\tlearn: 0.0957362\ttotal: 16.1s\tremaining: 25.9s\n",
      "384:\tlearn: 0.0956550\ttotal: 16.2s\tremaining: 25.8s\n",
      "385:\tlearn: 0.0955913\ttotal: 16.2s\tremaining: 25.8s\n",
      "386:\tlearn: 0.0955332\ttotal: 16.2s\tremaining: 25.7s\n",
      "387:\tlearn: 0.0954667\ttotal: 16.3s\tremaining: 25.7s\n",
      "388:\tlearn: 0.0954263\ttotal: 16.3s\tremaining: 25.6s\n",
      "389:\tlearn: 0.0954024\ttotal: 16.3s\tremaining: 25.6s\n",
      "390:\tlearn: 0.0953590\ttotal: 16.4s\tremaining: 25.5s\n",
      "391:\tlearn: 0.0953320\ttotal: 16.4s\tremaining: 25.4s\n",
      "392:\tlearn: 0.0952559\ttotal: 16.4s\tremaining: 25.4s\n",
      "393:\tlearn: 0.0951773\ttotal: 16.5s\tremaining: 25.3s\n",
      "394:\tlearn: 0.0948768\ttotal: 16.5s\tremaining: 25.3s\n",
      "395:\tlearn: 0.0948414\ttotal: 16.6s\tremaining: 25.2s\n",
      "396:\tlearn: 0.0947279\ttotal: 16.6s\tremaining: 25.2s\n",
      "397:\tlearn: 0.0946215\ttotal: 16.6s\tremaining: 25.1s\n",
      "398:\tlearn: 0.0945775\ttotal: 16.7s\tremaining: 25.1s\n",
      "399:\tlearn: 0.0945273\ttotal: 16.7s\tremaining: 25s\n",
      "400:\tlearn: 0.0944838\ttotal: 16.7s\tremaining: 25s\n",
      "401:\tlearn: 0.0944118\ttotal: 16.8s\tremaining: 24.9s\n",
      "402:\tlearn: 0.0943520\ttotal: 16.8s\tremaining: 24.9s\n",
      "403:\tlearn: 0.0943295\ttotal: 16.8s\tremaining: 24.8s\n",
      "404:\tlearn: 0.0943031\ttotal: 16.9s\tremaining: 24.8s\n",
      "405:\tlearn: 0.0942584\ttotal: 16.9s\tremaining: 24.7s\n",
      "406:\tlearn: 0.0942296\ttotal: 16.9s\tremaining: 24.7s\n",
      "407:\tlearn: 0.0940489\ttotal: 17s\tremaining: 24.6s\n",
      "408:\tlearn: 0.0939794\ttotal: 17s\tremaining: 24.6s\n",
      "409:\tlearn: 0.0939228\ttotal: 17.1s\tremaining: 24.5s\n",
      "410:\tlearn: 0.0938994\ttotal: 17.1s\tremaining: 24.5s\n",
      "411:\tlearn: 0.0938273\ttotal: 17.1s\tremaining: 24.4s\n",
      "412:\tlearn: 0.0937579\ttotal: 17.2s\tremaining: 24.4s\n",
      "413:\tlearn: 0.0937565\ttotal: 17.2s\tremaining: 24.3s\n",
      "414:\tlearn: 0.0937443\ttotal: 17.2s\tremaining: 24.3s\n",
      "415:\tlearn: 0.0936911\ttotal: 17.3s\tremaining: 24.2s\n",
      "416:\tlearn: 0.0936058\ttotal: 17.3s\tremaining: 24.2s\n",
      "417:\tlearn: 0.0934957\ttotal: 17.3s\tremaining: 24.1s\n",
      "418:\tlearn: 0.0934340\ttotal: 17.4s\tremaining: 24.1s\n",
      "419:\tlearn: 0.0934008\ttotal: 17.4s\tremaining: 24s\n",
      "420:\tlearn: 0.0933996\ttotal: 17.4s\tremaining: 24s\n",
      "421:\tlearn: 0.0933398\ttotal: 17.5s\tremaining: 23.9s\n",
      "422:\tlearn: 0.0932578\ttotal: 17.5s\tremaining: 23.9s\n",
      "423:\tlearn: 0.0931913\ttotal: 17.5s\tremaining: 23.8s\n",
      "424:\tlearn: 0.0931217\ttotal: 17.6s\tremaining: 23.8s\n",
      "425:\tlearn: 0.0930683\ttotal: 17.6s\tremaining: 23.7s\n",
      "426:\tlearn: 0.0930101\ttotal: 17.6s\tremaining: 23.7s\n",
      "427:\tlearn: 0.0929675\ttotal: 17.7s\tremaining: 23.6s\n",
      "428:\tlearn: 0.0929122\ttotal: 17.7s\tremaining: 23.6s\n",
      "429:\tlearn: 0.0928384\ttotal: 17.7s\tremaining: 23.5s\n",
      "430:\tlearn: 0.0928165\ttotal: 17.8s\tremaining: 23.5s\n",
      "431:\tlearn: 0.0927799\ttotal: 17.8s\tremaining: 23.4s\n",
      "432:\tlearn: 0.0927162\ttotal: 17.9s\tremaining: 23.4s\n",
      "433:\tlearn: 0.0926494\ttotal: 17.9s\tremaining: 23.3s\n",
      "434:\tlearn: 0.0926069\ttotal: 17.9s\tremaining: 23.3s\n",
      "435:\tlearn: 0.0925798\ttotal: 18s\tremaining: 23.2s\n",
      "436:\tlearn: 0.0925229\ttotal: 18s\tremaining: 23.2s\n",
      "437:\tlearn: 0.0924606\ttotal: 18s\tremaining: 23.1s\n",
      "438:\tlearn: 0.0924190\ttotal: 18.1s\tremaining: 23.1s\n",
      "439:\tlearn: 0.0923826\ttotal: 18.1s\tremaining: 23.1s\n",
      "440:\tlearn: 0.0923540\ttotal: 18.2s\tremaining: 23s\n",
      "441:\tlearn: 0.0923126\ttotal: 18.2s\tremaining: 23s\n",
      "442:\tlearn: 0.0922881\ttotal: 18.2s\tremaining: 22.9s\n",
      "443:\tlearn: 0.0922468\ttotal: 18.3s\tremaining: 22.9s\n",
      "444:\tlearn: 0.0921888\ttotal: 18.3s\tremaining: 22.8s\n",
      "445:\tlearn: 0.0921316\ttotal: 18.3s\tremaining: 22.8s\n",
      "446:\tlearn: 0.0920987\ttotal: 18.4s\tremaining: 22.7s\n",
      "447:\tlearn: 0.0920704\ttotal: 18.4s\tremaining: 22.7s\n",
      "448:\tlearn: 0.0920693\ttotal: 18.4s\tremaining: 22.6s\n",
      "449:\tlearn: 0.0920372\ttotal: 18.5s\tremaining: 22.6s\n",
      "450:\tlearn: 0.0920012\ttotal: 18.5s\tremaining: 22.5s\n",
      "451:\tlearn: 0.0919434\ttotal: 18.5s\tremaining: 22.5s\n",
      "452:\tlearn: 0.0918909\ttotal: 18.6s\tremaining: 22.4s\n",
      "453:\tlearn: 0.0918624\ttotal: 18.6s\tremaining: 22.4s\n",
      "454:\tlearn: 0.0918451\ttotal: 18.6s\tremaining: 22.3s\n",
      "455:\tlearn: 0.0918122\ttotal: 18.7s\tremaining: 22.3s\n",
      "456:\tlearn: 0.0917732\ttotal: 18.7s\tremaining: 22.2s\n",
      "457:\tlearn: 0.0916871\ttotal: 18.7s\tremaining: 22.2s\n",
      "458:\tlearn: 0.0916583\ttotal: 18.8s\tremaining: 22.1s\n",
      "459:\tlearn: 0.0916423\ttotal: 18.8s\tremaining: 22.1s\n",
      "460:\tlearn: 0.0916214\ttotal: 18.9s\tremaining: 22s\n",
      "461:\tlearn: 0.0916204\ttotal: 18.9s\tremaining: 22s\n",
      "462:\tlearn: 0.0915857\ttotal: 18.9s\tremaining: 21.9s\n",
      "463:\tlearn: 0.0915217\ttotal: 19s\tremaining: 21.9s\n",
      "464:\tlearn: 0.0912983\ttotal: 19s\tremaining: 21.8s\n",
      "465:\tlearn: 0.0912519\ttotal: 19s\tremaining: 21.8s\n",
      "466:\tlearn: 0.0911882\ttotal: 19.1s\tremaining: 21.8s\n",
      "467:\tlearn: 0.0911544\ttotal: 19.1s\tremaining: 21.7s\n",
      "468:\tlearn: 0.0911188\ttotal: 19.1s\tremaining: 21.7s\n",
      "469:\tlearn: 0.0910643\ttotal: 19.2s\tremaining: 21.6s\n",
      "470:\tlearn: 0.0910301\ttotal: 19.2s\tremaining: 21.6s\n",
      "471:\tlearn: 0.0909982\ttotal: 19.2s\tremaining: 21.5s\n",
      "472:\tlearn: 0.0909949\ttotal: 19.3s\tremaining: 21.5s\n",
      "473:\tlearn: 0.0909426\ttotal: 19.3s\tremaining: 21.4s\n",
      "474:\tlearn: 0.0908097\ttotal: 19.3s\tremaining: 21.4s\n",
      "475:\tlearn: 0.0907860\ttotal: 19.4s\tremaining: 21.3s\n",
      "476:\tlearn: 0.0907852\ttotal: 19.4s\tremaining: 21.3s\n",
      "477:\tlearn: 0.0907371\ttotal: 19.4s\tremaining: 21.2s\n",
      "478:\tlearn: 0.0906902\ttotal: 19.5s\tremaining: 21.2s\n",
      "479:\tlearn: 0.0906703\ttotal: 19.5s\tremaining: 21.1s\n",
      "480:\tlearn: 0.0905658\ttotal: 19.5s\tremaining: 21.1s\n",
      "481:\tlearn: 0.0905118\ttotal: 19.6s\tremaining: 21s\n",
      "482:\tlearn: 0.0904591\ttotal: 19.6s\tremaining: 21s\n",
      "483:\tlearn: 0.0903775\ttotal: 19.6s\tremaining: 20.9s\n"
     ]
    },
    {
     "name": "stdout",
     "output_type": "stream",
     "text": [
      "484:\tlearn: 0.0903652\ttotal: 19.7s\tremaining: 20.9s\n",
      "485:\tlearn: 0.0903332\ttotal: 19.7s\tremaining: 20.8s\n",
      "486:\tlearn: 0.0902460\ttotal: 19.7s\tremaining: 20.8s\n",
      "487:\tlearn: 0.0902000\ttotal: 19.8s\tremaining: 20.8s\n",
      "488:\tlearn: 0.0901805\ttotal: 19.8s\tremaining: 20.7s\n",
      "489:\tlearn: 0.0901494\ttotal: 19.9s\tremaining: 20.7s\n",
      "490:\tlearn: 0.0900965\ttotal: 19.9s\tremaining: 20.6s\n",
      "491:\tlearn: 0.0900267\ttotal: 19.9s\tremaining: 20.6s\n",
      "492:\tlearn: 0.0899878\ttotal: 20s\tremaining: 20.5s\n",
      "493:\tlearn: 0.0899604\ttotal: 20s\tremaining: 20.5s\n",
      "494:\tlearn: 0.0899556\ttotal: 20s\tremaining: 20.4s\n",
      "495:\tlearn: 0.0898732\ttotal: 20.1s\tremaining: 20.4s\n",
      "496:\tlearn: 0.0898306\ttotal: 20.1s\tremaining: 20.4s\n",
      "497:\tlearn: 0.0898004\ttotal: 20.2s\tremaining: 20.3s\n",
      "498:\tlearn: 0.0897637\ttotal: 20.2s\tremaining: 20.3s\n",
      "499:\tlearn: 0.0897227\ttotal: 20.3s\tremaining: 20.3s\n",
      "500:\tlearn: 0.0896732\ttotal: 20.3s\tremaining: 20.2s\n",
      "501:\tlearn: 0.0896385\ttotal: 20.4s\tremaining: 20.2s\n",
      "502:\tlearn: 0.0895870\ttotal: 20.4s\tremaining: 20.2s\n",
      "503:\tlearn: 0.0895297\ttotal: 20.5s\tremaining: 20.1s\n",
      "504:\tlearn: 0.0894768\ttotal: 20.5s\tremaining: 20.1s\n",
      "505:\tlearn: 0.0894633\ttotal: 20.5s\tremaining: 20.1s\n",
      "506:\tlearn: 0.0894348\ttotal: 20.6s\tremaining: 20s\n",
      "507:\tlearn: 0.0894344\ttotal: 20.6s\tremaining: 20s\n",
      "508:\tlearn: 0.0894089\ttotal: 20.6s\tremaining: 19.9s\n",
      "509:\tlearn: 0.0893784\ttotal: 20.7s\tremaining: 19.9s\n",
      "510:\tlearn: 0.0893180\ttotal: 20.7s\tremaining: 19.8s\n",
      "511:\tlearn: 0.0892620\ttotal: 20.8s\tremaining: 19.8s\n",
      "512:\tlearn: 0.0892054\ttotal: 20.8s\tremaining: 19.7s\n",
      "513:\tlearn: 0.0891636\ttotal: 20.8s\tremaining: 19.7s\n",
      "514:\tlearn: 0.0891392\ttotal: 20.9s\tremaining: 19.7s\n",
      "515:\tlearn: 0.0891164\ttotal: 20.9s\tremaining: 19.6s\n",
      "516:\tlearn: 0.0890728\ttotal: 20.9s\tremaining: 19.6s\n",
      "517:\tlearn: 0.0890561\ttotal: 21s\tremaining: 19.5s\n",
      "518:\tlearn: 0.0890218\ttotal: 21s\tremaining: 19.5s\n",
      "519:\tlearn: 0.0889663\ttotal: 21.1s\tremaining: 19.5s\n",
      "520:\tlearn: 0.0889630\ttotal: 21.1s\tremaining: 19.4s\n",
      "521:\tlearn: 0.0889299\ttotal: 21.2s\tremaining: 19.4s\n",
      "522:\tlearn: 0.0889080\ttotal: 21.2s\tremaining: 19.4s\n",
      "523:\tlearn: 0.0888763\ttotal: 21.3s\tremaining: 19.3s\n",
      "524:\tlearn: 0.0888170\ttotal: 21.3s\tremaining: 19.3s\n",
      "525:\tlearn: 0.0887954\ttotal: 21.3s\tremaining: 19.2s\n",
      "526:\tlearn: 0.0887475\ttotal: 21.4s\tremaining: 19.2s\n",
      "527:\tlearn: 0.0887035\ttotal: 21.4s\tremaining: 19.1s\n",
      "528:\tlearn: 0.0886716\ttotal: 21.5s\tremaining: 19.1s\n",
      "529:\tlearn: 0.0886268\ttotal: 21.5s\tremaining: 19.1s\n",
      "530:\tlearn: 0.0886262\ttotal: 21.6s\tremaining: 19s\n",
      "531:\tlearn: 0.0885854\ttotal: 21.6s\tremaining: 19s\n",
      "532:\tlearn: 0.0885561\ttotal: 21.7s\tremaining: 19s\n",
      "533:\tlearn: 0.0885181\ttotal: 21.7s\tremaining: 19s\n",
      "534:\tlearn: 0.0885174\ttotal: 21.8s\tremaining: 18.9s\n",
      "535:\tlearn: 0.0884706\ttotal: 21.8s\tremaining: 18.9s\n",
      "536:\tlearn: 0.0884305\ttotal: 21.8s\tremaining: 18.8s\n",
      "537:\tlearn: 0.0883845\ttotal: 21.9s\tremaining: 18.8s\n",
      "538:\tlearn: 0.0883484\ttotal: 21.9s\tremaining: 18.7s\n",
      "539:\tlearn: 0.0883026\ttotal: 21.9s\tremaining: 18.7s\n",
      "540:\tlearn: 0.0882831\ttotal: 22s\tremaining: 18.6s\n",
      "541:\tlearn: 0.0882525\ttotal: 22s\tremaining: 18.6s\n",
      "542:\tlearn: 0.0882005\ttotal: 22.1s\tremaining: 18.6s\n",
      "543:\tlearn: 0.0881565\ttotal: 22.1s\tremaining: 18.5s\n",
      "544:\tlearn: 0.0881257\ttotal: 22.1s\tremaining: 18.5s\n",
      "545:\tlearn: 0.0881251\ttotal: 22.2s\tremaining: 18.4s\n",
      "546:\tlearn: 0.0880900\ttotal: 22.2s\tremaining: 18.4s\n",
      "547:\tlearn: 0.0880109\ttotal: 22.2s\tremaining: 18.3s\n",
      "548:\tlearn: 0.0879545\ttotal: 22.3s\tremaining: 18.3s\n",
      "549:\tlearn: 0.0878756\ttotal: 22.3s\tremaining: 18.3s\n",
      "550:\tlearn: 0.0878483\ttotal: 22.3s\tremaining: 18.2s\n",
      "551:\tlearn: 0.0877016\ttotal: 22.4s\tremaining: 18.2s\n",
      "552:\tlearn: 0.0876457\ttotal: 22.4s\tremaining: 18.1s\n",
      "553:\tlearn: 0.0875969\ttotal: 22.5s\tremaining: 18.1s\n",
      "554:\tlearn: 0.0875517\ttotal: 22.5s\tremaining: 18s\n",
      "555:\tlearn: 0.0874946\ttotal: 22.5s\tremaining: 18s\n",
      "556:\tlearn: 0.0873429\ttotal: 22.6s\tremaining: 18s\n",
      "557:\tlearn: 0.0872219\ttotal: 22.6s\tremaining: 17.9s\n",
      "558:\tlearn: 0.0872002\ttotal: 22.7s\tremaining: 17.9s\n",
      "559:\tlearn: 0.0871711\ttotal: 22.7s\tremaining: 17.8s\n",
      "560:\tlearn: 0.0871156\ttotal: 22.7s\tremaining: 17.8s\n",
      "561:\tlearn: 0.0870843\ttotal: 22.8s\tremaining: 17.7s\n",
      "562:\tlearn: 0.0870511\ttotal: 22.8s\tremaining: 17.7s\n",
      "563:\tlearn: 0.0870140\ttotal: 22.8s\tremaining: 17.7s\n",
      "564:\tlearn: 0.0869784\ttotal: 22.9s\tremaining: 17.6s\n",
      "565:\tlearn: 0.0869631\ttotal: 22.9s\tremaining: 17.6s\n",
      "566:\tlearn: 0.0869354\ttotal: 23s\tremaining: 17.5s\n",
      "567:\tlearn: 0.0868712\ttotal: 23s\tremaining: 17.5s\n",
      "568:\tlearn: 0.0868631\ttotal: 23s\tremaining: 17.4s\n",
      "569:\tlearn: 0.0868167\ttotal: 23.1s\tremaining: 17.4s\n",
      "570:\tlearn: 0.0867971\ttotal: 23.1s\tremaining: 17.4s\n",
      "571:\tlearn: 0.0867523\ttotal: 23.1s\tremaining: 17.3s\n",
      "572:\tlearn: 0.0866981\ttotal: 23.2s\tremaining: 17.3s\n",
      "573:\tlearn: 0.0866462\ttotal: 23.2s\tremaining: 17.2s\n",
      "574:\tlearn: 0.0865896\ttotal: 23.2s\tremaining: 17.2s\n",
      "575:\tlearn: 0.0865523\ttotal: 23.3s\tremaining: 17.1s\n",
      "576:\tlearn: 0.0865097\ttotal: 23.3s\tremaining: 17.1s\n",
      "577:\tlearn: 0.0864801\ttotal: 23.4s\tremaining: 17.1s\n",
      "578:\tlearn: 0.0863809\ttotal: 23.4s\tremaining: 17s\n",
      "579:\tlearn: 0.0863279\ttotal: 23.4s\tremaining: 17s\n",
      "580:\tlearn: 0.0862801\ttotal: 23.5s\tremaining: 16.9s\n",
      "581:\tlearn: 0.0862291\ttotal: 23.5s\tremaining: 16.9s\n",
      "582:\tlearn: 0.0862082\ttotal: 23.5s\tremaining: 16.8s\n",
      "583:\tlearn: 0.0861799\ttotal: 23.6s\tremaining: 16.8s\n",
      "584:\tlearn: 0.0861363\ttotal: 23.6s\tremaining: 16.7s\n",
      "585:\tlearn: 0.0861117\ttotal: 23.6s\tremaining: 16.7s\n",
      "586:\tlearn: 0.0860710\ttotal: 23.7s\tremaining: 16.7s\n",
      "587:\tlearn: 0.0860403\ttotal: 23.7s\tremaining: 16.6s\n",
      "588:\tlearn: 0.0860106\ttotal: 23.8s\tremaining: 16.6s\n",
      "589:\tlearn: 0.0859822\ttotal: 23.8s\tremaining: 16.5s\n",
      "590:\tlearn: 0.0858798\ttotal: 23.9s\tremaining: 16.5s\n",
      "591:\tlearn: 0.0858466\ttotal: 23.9s\tremaining: 16.5s\n",
      "592:\tlearn: 0.0857826\ttotal: 23.9s\tremaining: 16.4s\n",
      "593:\tlearn: 0.0857597\ttotal: 24s\tremaining: 16.4s\n",
      "594:\tlearn: 0.0857380\ttotal: 24s\tremaining: 16.3s\n",
      "595:\tlearn: 0.0857162\ttotal: 24s\tremaining: 16.3s\n",
      "596:\tlearn: 0.0856927\ttotal: 24.1s\tremaining: 16.2s\n",
      "597:\tlearn: 0.0856743\ttotal: 24.1s\tremaining: 16.2s\n",
      "598:\tlearn: 0.0856533\ttotal: 24.1s\tremaining: 16.2s\n",
      "599:\tlearn: 0.0856271\ttotal: 24.2s\tremaining: 16.1s\n",
      "600:\tlearn: 0.0856135\ttotal: 24.2s\tremaining: 16.1s\n",
      "601:\tlearn: 0.0855670\ttotal: 24.2s\tremaining: 16s\n",
      "602:\tlearn: 0.0855216\ttotal: 24.3s\tremaining: 16s\n",
      "603:\tlearn: 0.0854938\ttotal: 24.3s\tremaining: 15.9s\n",
      "604:\tlearn: 0.0854273\ttotal: 24.3s\tremaining: 15.9s\n",
      "605:\tlearn: 0.0853948\ttotal: 24.4s\tremaining: 15.9s\n",
      "606:\tlearn: 0.0853462\ttotal: 24.4s\tremaining: 15.8s\n",
      "607:\tlearn: 0.0853332\ttotal: 24.4s\tremaining: 15.8s\n",
      "608:\tlearn: 0.0853039\ttotal: 24.5s\tremaining: 15.7s\n",
      "609:\tlearn: 0.0852734\ttotal: 24.5s\tremaining: 15.7s\n",
      "610:\tlearn: 0.0852099\ttotal: 24.6s\tremaining: 15.6s\n",
      "611:\tlearn: 0.0851854\ttotal: 24.6s\tremaining: 15.6s\n",
      "612:\tlearn: 0.0851613\ttotal: 24.6s\tremaining: 15.5s\n",
      "613:\tlearn: 0.0851065\ttotal: 24.7s\tremaining: 15.5s\n",
      "614:\tlearn: 0.0850716\ttotal: 24.7s\tremaining: 15.5s\n",
      "615:\tlearn: 0.0850403\ttotal: 24.7s\tremaining: 15.4s\n",
      "616:\tlearn: 0.0848296\ttotal: 24.8s\tremaining: 15.4s\n",
      "617:\tlearn: 0.0847561\ttotal: 24.8s\tremaining: 15.4s\n",
      "618:\tlearn: 0.0847269\ttotal: 24.9s\tremaining: 15.3s\n",
      "619:\tlearn: 0.0846959\ttotal: 24.9s\tremaining: 15.3s\n",
      "620:\tlearn: 0.0846528\ttotal: 25s\tremaining: 15.3s\n",
      "621:\tlearn: 0.0845982\ttotal: 25.1s\tremaining: 15.2s\n",
      "622:\tlearn: 0.0845736\ttotal: 25.1s\tremaining: 15.2s\n",
      "623:\tlearn: 0.0845036\ttotal: 25.1s\tremaining: 15.1s\n",
      "624:\tlearn: 0.0844511\ttotal: 25.2s\tremaining: 15.1s\n",
      "625:\tlearn: 0.0844083\ttotal: 25.2s\tremaining: 15.1s\n",
      "626:\tlearn: 0.0843789\ttotal: 25.3s\tremaining: 15s\n",
      "627:\tlearn: 0.0843504\ttotal: 25.3s\tremaining: 15s\n",
      "628:\tlearn: 0.0842849\ttotal: 25.3s\tremaining: 14.9s\n",
      "629:\tlearn: 0.0842564\ttotal: 25.4s\tremaining: 14.9s\n",
      "630:\tlearn: 0.0842316\ttotal: 25.4s\tremaining: 14.9s\n",
      "631:\tlearn: 0.0842045\ttotal: 25.4s\tremaining: 14.8s\n",
      "632:\tlearn: 0.0841849\ttotal: 25.5s\tremaining: 14.8s\n",
      "633:\tlearn: 0.0841736\ttotal: 25.5s\tremaining: 14.7s\n",
      "634:\tlearn: 0.0841306\ttotal: 25.6s\tremaining: 14.7s\n",
      "635:\tlearn: 0.0841305\ttotal: 25.6s\tremaining: 14.6s\n",
      "636:\tlearn: 0.0841183\ttotal: 25.6s\tremaining: 14.6s\n",
      "637:\tlearn: 0.0840805\ttotal: 25.7s\tremaining: 14.6s\n",
      "638:\tlearn: 0.0840559\ttotal: 25.7s\tremaining: 14.5s\n",
      "639:\tlearn: 0.0840269\ttotal: 25.7s\tremaining: 14.5s\n",
      "640:\tlearn: 0.0840157\ttotal: 25.8s\tremaining: 14.4s\n",
      "641:\tlearn: 0.0839750\ttotal: 25.8s\tremaining: 14.4s\n",
      "642:\tlearn: 0.0839530\ttotal: 25.9s\tremaining: 14.4s\n",
      "643:\tlearn: 0.0839286\ttotal: 25.9s\tremaining: 14.3s\n",
      "644:\tlearn: 0.0839072\ttotal: 25.9s\tremaining: 14.3s\n",
      "645:\tlearn: 0.0838814\ttotal: 26s\tremaining: 14.2s\n",
      "646:\tlearn: 0.0838604\ttotal: 26s\tremaining: 14.2s\n",
      "647:\tlearn: 0.0838094\ttotal: 26s\tremaining: 14.1s\n"
     ]
    },
    {
     "name": "stdout",
     "output_type": "stream",
     "text": [
      "648:\tlearn: 0.0837883\ttotal: 26.1s\tremaining: 14.1s\n",
      "649:\tlearn: 0.0837604\ttotal: 26.1s\tremaining: 14.1s\n",
      "650:\tlearn: 0.0837297\ttotal: 26.2s\tremaining: 14s\n",
      "651:\tlearn: 0.0836862\ttotal: 26.2s\tremaining: 14s\n",
      "652:\tlearn: 0.0836304\ttotal: 26.2s\tremaining: 13.9s\n",
      "653:\tlearn: 0.0835928\ttotal: 26.3s\tremaining: 13.9s\n",
      "654:\tlearn: 0.0835862\ttotal: 26.3s\tremaining: 13.9s\n",
      "655:\tlearn: 0.0835632\ttotal: 26.4s\tremaining: 13.8s\n",
      "656:\tlearn: 0.0835281\ttotal: 26.4s\tremaining: 13.8s\n",
      "657:\tlearn: 0.0834924\ttotal: 26.4s\tremaining: 13.7s\n",
      "658:\tlearn: 0.0834691\ttotal: 26.5s\tremaining: 13.7s\n",
      "659:\tlearn: 0.0834381\ttotal: 26.5s\tremaining: 13.6s\n",
      "660:\tlearn: 0.0834139\ttotal: 26.5s\tremaining: 13.6s\n",
      "661:\tlearn: 0.0833918\ttotal: 26.6s\tremaining: 13.6s\n",
      "662:\tlearn: 0.0833685\ttotal: 26.6s\tremaining: 13.5s\n",
      "663:\tlearn: 0.0833525\ttotal: 26.6s\tremaining: 13.5s\n",
      "664:\tlearn: 0.0832549\ttotal: 26.7s\tremaining: 13.4s\n",
      "665:\tlearn: 0.0832273\ttotal: 26.7s\tremaining: 13.4s\n",
      "666:\tlearn: 0.0832009\ttotal: 26.8s\tremaining: 13.4s\n",
      "667:\tlearn: 0.0831578\ttotal: 26.8s\tremaining: 13.3s\n",
      "668:\tlearn: 0.0831066\ttotal: 26.8s\tremaining: 13.3s\n",
      "669:\tlearn: 0.0830313\ttotal: 26.9s\tremaining: 13.2s\n",
      "670:\tlearn: 0.0830048\ttotal: 26.9s\tremaining: 13.2s\n",
      "671:\tlearn: 0.0829280\ttotal: 26.9s\tremaining: 13.1s\n",
      "672:\tlearn: 0.0828854\ttotal: 27s\tremaining: 13.1s\n",
      "673:\tlearn: 0.0828609\ttotal: 27s\tremaining: 13.1s\n",
      "674:\tlearn: 0.0828475\ttotal: 27.1s\tremaining: 13s\n",
      "675:\tlearn: 0.0827871\ttotal: 27.1s\tremaining: 13s\n",
      "676:\tlearn: 0.0827556\ttotal: 27.1s\tremaining: 12.9s\n",
      "677:\tlearn: 0.0827335\ttotal: 27.2s\tremaining: 12.9s\n",
      "678:\tlearn: 0.0827117\ttotal: 27.2s\tremaining: 12.9s\n",
      "679:\tlearn: 0.0826602\ttotal: 27.3s\tremaining: 12.8s\n",
      "680:\tlearn: 0.0826328\ttotal: 27.3s\tremaining: 12.8s\n",
      "681:\tlearn: 0.0825999\ttotal: 27.4s\tremaining: 12.8s\n",
      "682:\tlearn: 0.0825781\ttotal: 27.4s\tremaining: 12.7s\n",
      "683:\tlearn: 0.0825526\ttotal: 27.5s\tremaining: 12.7s\n",
      "684:\tlearn: 0.0825294\ttotal: 27.5s\tremaining: 12.6s\n",
      "685:\tlearn: 0.0825182\ttotal: 27.5s\tremaining: 12.6s\n",
      "686:\tlearn: 0.0824907\ttotal: 27.6s\tremaining: 12.6s\n",
      "687:\tlearn: 0.0824710\ttotal: 27.6s\tremaining: 12.5s\n",
      "688:\tlearn: 0.0824654\ttotal: 27.6s\tremaining: 12.5s\n",
      "689:\tlearn: 0.0824454\ttotal: 27.7s\tremaining: 12.4s\n",
      "690:\tlearn: 0.0824212\ttotal: 27.7s\tremaining: 12.4s\n",
      "691:\tlearn: 0.0823859\ttotal: 27.7s\tremaining: 12.3s\n",
      "692:\tlearn: 0.0822402\ttotal: 27.8s\tremaining: 12.3s\n",
      "693:\tlearn: 0.0822072\ttotal: 27.8s\tremaining: 12.3s\n",
      "694:\tlearn: 0.0821028\ttotal: 27.8s\tremaining: 12.2s\n",
      "695:\tlearn: 0.0820665\ttotal: 27.9s\tremaining: 12.2s\n",
      "696:\tlearn: 0.0820153\ttotal: 27.9s\tremaining: 12.1s\n",
      "697:\tlearn: 0.0819942\ttotal: 28s\tremaining: 12.1s\n",
      "698:\tlearn: 0.0819350\ttotal: 28s\tremaining: 12.1s\n",
      "699:\tlearn: 0.0818990\ttotal: 28s\tremaining: 12s\n",
      "700:\tlearn: 0.0818744\ttotal: 28.1s\tremaining: 12s\n",
      "701:\tlearn: 0.0818236\ttotal: 28.1s\tremaining: 11.9s\n",
      "702:\tlearn: 0.0817993\ttotal: 28.1s\tremaining: 11.9s\n",
      "703:\tlearn: 0.0817580\ttotal: 28.2s\tremaining: 11.8s\n",
      "704:\tlearn: 0.0817250\ttotal: 28.2s\tremaining: 11.8s\n",
      "705:\tlearn: 0.0817048\ttotal: 28.2s\tremaining: 11.8s\n",
      "706:\tlearn: 0.0816961\ttotal: 28.3s\tremaining: 11.7s\n",
      "707:\tlearn: 0.0816170\ttotal: 28.3s\tremaining: 11.7s\n",
      "708:\tlearn: 0.0815923\ttotal: 28.3s\tremaining: 11.6s\n",
      "709:\tlearn: 0.0815693\ttotal: 28.4s\tremaining: 11.6s\n",
      "710:\tlearn: 0.0815412\ttotal: 28.4s\tremaining: 11.6s\n",
      "711:\tlearn: 0.0815174\ttotal: 28.4s\tremaining: 11.5s\n",
      "712:\tlearn: 0.0814852\ttotal: 28.5s\tremaining: 11.5s\n",
      "713:\tlearn: 0.0814650\ttotal: 28.5s\tremaining: 11.4s\n",
      "714:\tlearn: 0.0814377\ttotal: 28.6s\tremaining: 11.4s\n",
      "715:\tlearn: 0.0813909\ttotal: 28.6s\tremaining: 11.3s\n",
      "716:\tlearn: 0.0813484\ttotal: 28.6s\tremaining: 11.3s\n",
      "717:\tlearn: 0.0813330\ttotal: 28.7s\tremaining: 11.3s\n",
      "718:\tlearn: 0.0813254\ttotal: 28.7s\tremaining: 11.2s\n",
      "719:\tlearn: 0.0813102\ttotal: 28.7s\tremaining: 11.2s\n",
      "720:\tlearn: 0.0813057\ttotal: 28.8s\tremaining: 11.1s\n",
      "721:\tlearn: 0.0812730\ttotal: 28.8s\tremaining: 11.1s\n",
      "722:\tlearn: 0.0812557\ttotal: 28.8s\tremaining: 11s\n",
      "723:\tlearn: 0.0812209\ttotal: 28.9s\tremaining: 11s\n",
      "724:\tlearn: 0.0811969\ttotal: 28.9s\tremaining: 11s\n",
      "725:\tlearn: 0.0811732\ttotal: 28.9s\tremaining: 10.9s\n",
      "726:\tlearn: 0.0811535\ttotal: 29s\tremaining: 10.9s\n",
      "727:\tlearn: 0.0811166\ttotal: 29.1s\tremaining: 10.9s\n",
      "728:\tlearn: 0.0810739\ttotal: 29.1s\tremaining: 10.8s\n",
      "729:\tlearn: 0.0810570\ttotal: 29.1s\tremaining: 10.8s\n",
      "730:\tlearn: 0.0810192\ttotal: 29.2s\tremaining: 10.7s\n",
      "731:\tlearn: 0.0809812\ttotal: 29.2s\tremaining: 10.7s\n",
      "732:\tlearn: 0.0809385\ttotal: 29.2s\tremaining: 10.6s\n",
      "733:\tlearn: 0.0808856\ttotal: 29.3s\tremaining: 10.6s\n",
      "734:\tlearn: 0.0808661\ttotal: 29.3s\tremaining: 10.6s\n",
      "735:\tlearn: 0.0808506\ttotal: 29.3s\tremaining: 10.5s\n",
      "736:\tlearn: 0.0808072\ttotal: 29.4s\tremaining: 10.5s\n",
      "737:\tlearn: 0.0807760\ttotal: 29.4s\tremaining: 10.4s\n",
      "738:\tlearn: 0.0807557\ttotal: 29.4s\tremaining: 10.4s\n",
      "739:\tlearn: 0.0807310\ttotal: 29.5s\tremaining: 10.4s\n",
      "740:\tlearn: 0.0807004\ttotal: 29.5s\tremaining: 10.3s\n",
      "741:\tlearn: 0.0806767\ttotal: 29.5s\tremaining: 10.3s\n",
      "742:\tlearn: 0.0806534\ttotal: 29.6s\tremaining: 10.2s\n",
      "743:\tlearn: 0.0806252\ttotal: 29.6s\tremaining: 10.2s\n",
      "744:\tlearn: 0.0804308\ttotal: 29.7s\tremaining: 10.1s\n",
      "745:\tlearn: 0.0803955\ttotal: 29.7s\tremaining: 10.1s\n",
      "746:\tlearn: 0.0803506\ttotal: 29.7s\tremaining: 10.1s\n",
      "747:\tlearn: 0.0803315\ttotal: 29.8s\tremaining: 10s\n",
      "748:\tlearn: 0.0803029\ttotal: 29.8s\tremaining: 9.99s\n",
      "749:\tlearn: 0.0802490\ttotal: 29.8s\tremaining: 9.95s\n",
      "750:\tlearn: 0.0802336\ttotal: 29.9s\tremaining: 9.9s\n",
      "751:\tlearn: 0.0802068\ttotal: 29.9s\tremaining: 9.86s\n",
      "752:\tlearn: 0.0801939\ttotal: 30s\tremaining: 9.82s\n",
      "753:\tlearn: 0.0801774\ttotal: 30s\tremaining: 9.78s\n",
      "754:\tlearn: 0.0801693\ttotal: 30s\tremaining: 9.74s\n",
      "755:\tlearn: 0.0801496\ttotal: 30s\tremaining: 9.7s\n",
      "756:\tlearn: 0.0800967\ttotal: 30.1s\tremaining: 9.66s\n",
      "757:\tlearn: 0.0800744\ttotal: 30.1s\tremaining: 9.62s\n",
      "758:\tlearn: 0.0800333\ttotal: 30.2s\tremaining: 9.58s\n",
      "759:\tlearn: 0.0800104\ttotal: 30.2s\tremaining: 9.54s\n",
      "760:\tlearn: 0.0799698\ttotal: 30.2s\tremaining: 9.49s\n",
      "761:\tlearn: 0.0799546\ttotal: 30.3s\tremaining: 9.45s\n",
      "762:\tlearn: 0.0799378\ttotal: 30.3s\tremaining: 9.41s\n",
      "763:\tlearn: 0.0799316\ttotal: 30.3s\tremaining: 9.37s\n",
      "764:\tlearn: 0.0799097\ttotal: 30.4s\tremaining: 9.33s\n",
      "765:\tlearn: 0.0798711\ttotal: 30.4s\tremaining: 9.29s\n",
      "766:\tlearn: 0.0798371\ttotal: 30.4s\tremaining: 9.25s\n",
      "767:\tlearn: 0.0798177\ttotal: 30.5s\tremaining: 9.21s\n",
      "768:\tlearn: 0.0797850\ttotal: 30.5s\tremaining: 9.16s\n",
      "769:\tlearn: 0.0797618\ttotal: 30.5s\tremaining: 9.12s\n",
      "770:\tlearn: 0.0797087\ttotal: 30.6s\tremaining: 9.08s\n",
      "771:\tlearn: 0.0796481\ttotal: 30.6s\tremaining: 9.04s\n",
      "772:\tlearn: 0.0796140\ttotal: 30.7s\tremaining: 9s\n",
      "773:\tlearn: 0.0795908\ttotal: 30.7s\tremaining: 8.96s\n",
      "774:\tlearn: 0.0795676\ttotal: 30.7s\tremaining: 8.92s\n",
      "775:\tlearn: 0.0795347\ttotal: 30.8s\tremaining: 8.88s\n",
      "776:\tlearn: 0.0795118\ttotal: 30.8s\tremaining: 8.84s\n",
      "777:\tlearn: 0.0794948\ttotal: 30.8s\tremaining: 8.8s\n",
      "778:\tlearn: 0.0794755\ttotal: 30.9s\tremaining: 8.76s\n",
      "779:\tlearn: 0.0794542\ttotal: 30.9s\tremaining: 8.72s\n",
      "780:\tlearn: 0.0794531\ttotal: 30.9s\tremaining: 8.68s\n",
      "781:\tlearn: 0.0794455\ttotal: 31s\tremaining: 8.63s\n",
      "782:\tlearn: 0.0794248\ttotal: 31s\tremaining: 8.59s\n",
      "783:\tlearn: 0.0794009\ttotal: 31s\tremaining: 8.55s\n",
      "784:\tlearn: 0.0793630\ttotal: 31.1s\tremaining: 8.51s\n",
      "785:\tlearn: 0.0793571\ttotal: 31.1s\tremaining: 8.47s\n",
      "786:\tlearn: 0.0793248\ttotal: 31.2s\tremaining: 8.43s\n",
      "787:\tlearn: 0.0793062\ttotal: 31.2s\tremaining: 8.39s\n",
      "788:\tlearn: 0.0792844\ttotal: 31.2s\tremaining: 8.35s\n",
      "789:\tlearn: 0.0792098\ttotal: 31.3s\tremaining: 8.31s\n",
      "790:\tlearn: 0.0791954\ttotal: 31.3s\tremaining: 8.27s\n",
      "791:\tlearn: 0.0791682\ttotal: 31.3s\tremaining: 8.23s\n",
      "792:\tlearn: 0.0791431\ttotal: 31.4s\tremaining: 8.19s\n",
      "793:\tlearn: 0.0790998\ttotal: 31.4s\tremaining: 8.15s\n",
      "794:\tlearn: 0.0790513\ttotal: 31.4s\tremaining: 8.11s\n",
      "795:\tlearn: 0.0790271\ttotal: 31.5s\tremaining: 8.07s\n",
      "796:\tlearn: 0.0790056\ttotal: 31.5s\tremaining: 8.03s\n",
      "797:\tlearn: 0.0789972\ttotal: 31.5s\tremaining: 7.99s\n",
      "798:\tlearn: 0.0789429\ttotal: 31.6s\tremaining: 7.95s\n",
      "799:\tlearn: 0.0788971\ttotal: 31.6s\tremaining: 7.9s\n",
      "800:\tlearn: 0.0788750\ttotal: 31.6s\tremaining: 7.86s\n",
      "801:\tlearn: 0.0788465\ttotal: 31.7s\tremaining: 7.82s\n",
      "802:\tlearn: 0.0788191\ttotal: 31.7s\tremaining: 7.78s\n",
      "803:\tlearn: 0.0787389\ttotal: 31.8s\tremaining: 7.74s\n",
      "804:\tlearn: 0.0787162\ttotal: 31.8s\tremaining: 7.7s\n",
      "805:\tlearn: 0.0786996\ttotal: 31.8s\tremaining: 7.66s\n",
      "806:\tlearn: 0.0786735\ttotal: 31.9s\tremaining: 7.62s\n",
      "807:\tlearn: 0.0786400\ttotal: 31.9s\tremaining: 7.58s\n"
     ]
    },
    {
     "name": "stdout",
     "output_type": "stream",
     "text": [
      "808:\tlearn: 0.0786203\ttotal: 31.9s\tremaining: 7.54s\n",
      "809:\tlearn: 0.0786181\ttotal: 32s\tremaining: 7.5s\n",
      "810:\tlearn: 0.0785893\ttotal: 32s\tremaining: 7.46s\n",
      "811:\tlearn: 0.0785751\ttotal: 32s\tremaining: 7.42s\n",
      "812:\tlearn: 0.0785484\ttotal: 32.1s\tremaining: 7.38s\n",
      "813:\tlearn: 0.0784858\ttotal: 32.1s\tremaining: 7.34s\n",
      "814:\tlearn: 0.0784540\ttotal: 32.2s\tremaining: 7.3s\n",
      "815:\tlearn: 0.0784318\ttotal: 32.2s\tremaining: 7.26s\n",
      "816:\tlearn: 0.0783947\ttotal: 32.2s\tremaining: 7.22s\n",
      "817:\tlearn: 0.0783694\ttotal: 32.3s\tremaining: 7.18s\n",
      "818:\tlearn: 0.0783471\ttotal: 32.3s\tremaining: 7.14s\n",
      "819:\tlearn: 0.0783404\ttotal: 32.3s\tremaining: 7.09s\n",
      "820:\tlearn: 0.0783108\ttotal: 32.4s\tremaining: 7.06s\n",
      "821:\tlearn: 0.0782636\ttotal: 32.4s\tremaining: 7.02s\n",
      "822:\tlearn: 0.0782272\ttotal: 32.4s\tremaining: 6.98s\n",
      "823:\tlearn: 0.0782049\ttotal: 32.5s\tremaining: 6.93s\n",
      "824:\tlearn: 0.0781471\ttotal: 32.5s\tremaining: 6.89s\n",
      "825:\tlearn: 0.0780578\ttotal: 32.5s\tremaining: 6.85s\n",
      "826:\tlearn: 0.0780329\ttotal: 32.6s\tremaining: 6.82s\n",
      "827:\tlearn: 0.0780201\ttotal: 32.6s\tremaining: 6.78s\n",
      "828:\tlearn: 0.0780062\ttotal: 32.6s\tremaining: 6.73s\n",
      "829:\tlearn: 0.0779888\ttotal: 32.7s\tremaining: 6.69s\n",
      "830:\tlearn: 0.0779833\ttotal: 32.7s\tremaining: 6.65s\n",
      "831:\tlearn: 0.0779689\ttotal: 32.8s\tremaining: 6.61s\n",
      "832:\tlearn: 0.0779131\ttotal: 32.8s\tremaining: 6.57s\n",
      "833:\tlearn: 0.0778728\ttotal: 32.8s\tremaining: 6.53s\n",
      "834:\tlearn: 0.0778494\ttotal: 32.9s\tremaining: 6.49s\n",
      "835:\tlearn: 0.0778441\ttotal: 32.9s\tremaining: 6.45s\n",
      "836:\tlearn: 0.0778184\ttotal: 32.9s\tremaining: 6.41s\n",
      "837:\tlearn: 0.0777712\ttotal: 33s\tremaining: 6.37s\n",
      "838:\tlearn: 0.0777404\ttotal: 33s\tremaining: 6.33s\n",
      "839:\tlearn: 0.0777226\ttotal: 33s\tremaining: 6.29s\n",
      "840:\tlearn: 0.0776953\ttotal: 33.1s\tremaining: 6.25s\n",
      "841:\tlearn: 0.0776733\ttotal: 33.1s\tremaining: 6.21s\n",
      "842:\tlearn: 0.0776551\ttotal: 33.1s\tremaining: 6.17s\n",
      "843:\tlearn: 0.0776380\ttotal: 33.2s\tremaining: 6.13s\n",
      "844:\tlearn: 0.0776157\ttotal: 33.2s\tremaining: 6.09s\n",
      "845:\tlearn: 0.0775978\ttotal: 33.3s\tremaining: 6.05s\n",
      "846:\tlearn: 0.0775755\ttotal: 33.3s\tremaining: 6.01s\n",
      "847:\tlearn: 0.0775560\ttotal: 33.3s\tremaining: 5.97s\n",
      "848:\tlearn: 0.0775463\ttotal: 33.4s\tremaining: 5.93s\n",
      "849:\tlearn: 0.0775245\ttotal: 33.4s\tremaining: 5.89s\n",
      "850:\tlearn: 0.0774993\ttotal: 33.4s\tremaining: 5.85s\n",
      "851:\tlearn: 0.0774902\ttotal: 33.5s\tremaining: 5.81s\n",
      "852:\tlearn: 0.0774693\ttotal: 33.5s\tremaining: 5.77s\n",
      "853:\tlearn: 0.0774453\ttotal: 33.5s\tremaining: 5.73s\n",
      "854:\tlearn: 0.0774166\ttotal: 33.6s\tremaining: 5.69s\n",
      "855:\tlearn: 0.0773877\ttotal: 33.6s\tremaining: 5.65s\n",
      "856:\tlearn: 0.0773658\ttotal: 33.6s\tremaining: 5.61s\n",
      "857:\tlearn: 0.0773255\ttotal: 33.7s\tremaining: 5.57s\n",
      "858:\tlearn: 0.0772938\ttotal: 33.7s\tremaining: 5.53s\n",
      "859:\tlearn: 0.0772664\ttotal: 33.7s\tremaining: 5.49s\n",
      "860:\tlearn: 0.0772483\ttotal: 33.8s\tremaining: 5.45s\n",
      "861:\tlearn: 0.0772122\ttotal: 33.8s\tremaining: 5.41s\n",
      "862:\tlearn: 0.0771547\ttotal: 33.8s\tremaining: 5.37s\n",
      "863:\tlearn: 0.0771163\ttotal: 33.9s\tremaining: 5.33s\n",
      "864:\tlearn: 0.0770430\ttotal: 33.9s\tremaining: 5.29s\n",
      "865:\tlearn: 0.0769722\ttotal: 34s\tremaining: 5.25s\n",
      "866:\tlearn: 0.0768835\ttotal: 34s\tremaining: 5.21s\n",
      "867:\tlearn: 0.0768578\ttotal: 34s\tremaining: 5.17s\n",
      "868:\tlearn: 0.0768323\ttotal: 34.1s\tremaining: 5.13s\n",
      "869:\tlearn: 0.0768060\ttotal: 34.1s\tremaining: 5.09s\n",
      "870:\tlearn: 0.0767965\ttotal: 34.2s\tremaining: 5.06s\n",
      "871:\tlearn: 0.0767721\ttotal: 34.2s\tremaining: 5.02s\n",
      "872:\tlearn: 0.0767503\ttotal: 34.2s\tremaining: 4.98s\n",
      "873:\tlearn: 0.0767153\ttotal: 34.3s\tremaining: 4.95s\n",
      "874:\tlearn: 0.0766916\ttotal: 34.4s\tremaining: 4.91s\n",
      "875:\tlearn: 0.0766622\ttotal: 34.4s\tremaining: 4.87s\n",
      "876:\tlearn: 0.0766264\ttotal: 34.5s\tremaining: 4.83s\n",
      "877:\tlearn: 0.0765997\ttotal: 34.5s\tremaining: 4.8s\n",
      "878:\tlearn: 0.0765684\ttotal: 34.6s\tremaining: 4.76s\n",
      "879:\tlearn: 0.0765438\ttotal: 34.6s\tremaining: 4.72s\n",
      "880:\tlearn: 0.0765279\ttotal: 34.7s\tremaining: 4.68s\n",
      "881:\tlearn: 0.0764958\ttotal: 34.7s\tremaining: 4.65s\n",
      "882:\tlearn: 0.0764582\ttotal: 34.8s\tremaining: 4.61s\n",
      "883:\tlearn: 0.0764411\ttotal: 34.8s\tremaining: 4.57s\n",
      "884:\tlearn: 0.0763939\ttotal: 34.9s\tremaining: 4.53s\n",
      "885:\tlearn: 0.0763644\ttotal: 34.9s\tremaining: 4.49s\n",
      "886:\tlearn: 0.0763345\ttotal: 35s\tremaining: 4.45s\n",
      "887:\tlearn: 0.0763121\ttotal: 35s\tremaining: 4.41s\n",
      "888:\tlearn: 0.0762970\ttotal: 35s\tremaining: 4.37s\n",
      "889:\tlearn: 0.0762643\ttotal: 35.1s\tremaining: 4.33s\n",
      "890:\tlearn: 0.0762466\ttotal: 35.1s\tremaining: 4.29s\n",
      "891:\tlearn: 0.0762271\ttotal: 35.1s\tremaining: 4.25s\n",
      "892:\tlearn: 0.0762063\ttotal: 35.2s\tremaining: 4.21s\n",
      "893:\tlearn: 0.0761750\ttotal: 35.2s\tremaining: 4.17s\n",
      "894:\tlearn: 0.0761473\ttotal: 35.2s\tremaining: 4.13s\n",
      "895:\tlearn: 0.0761236\ttotal: 35.3s\tremaining: 4.09s\n",
      "896:\tlearn: 0.0761037\ttotal: 35.3s\tremaining: 4.05s\n",
      "897:\tlearn: 0.0760689\ttotal: 35.3s\tremaining: 4.01s\n",
      "898:\tlearn: 0.0760579\ttotal: 35.4s\tremaining: 3.98s\n",
      "899:\tlearn: 0.0760474\ttotal: 35.4s\tremaining: 3.94s\n",
      "900:\tlearn: 0.0760240\ttotal: 35.5s\tremaining: 3.9s\n",
      "901:\tlearn: 0.0760104\ttotal: 35.5s\tremaining: 3.86s\n",
      "902:\tlearn: 0.0759821\ttotal: 35.6s\tremaining: 3.82s\n",
      "903:\tlearn: 0.0759529\ttotal: 35.6s\tremaining: 3.78s\n",
      "904:\tlearn: 0.0759153\ttotal: 35.7s\tremaining: 3.74s\n",
      "905:\tlearn: 0.0758967\ttotal: 35.7s\tremaining: 3.71s\n",
      "906:\tlearn: 0.0758668\ttotal: 35.8s\tremaining: 3.67s\n",
      "907:\tlearn: 0.0758471\ttotal: 35.8s\tremaining: 3.63s\n",
      "908:\tlearn: 0.0758147\ttotal: 35.8s\tremaining: 3.59s\n",
      "909:\tlearn: 0.0758027\ttotal: 35.9s\tremaining: 3.55s\n",
      "910:\tlearn: 0.0758027\ttotal: 35.9s\tremaining: 3.51s\n",
      "911:\tlearn: 0.0757858\ttotal: 35.9s\tremaining: 3.47s\n",
      "912:\tlearn: 0.0757170\ttotal: 36s\tremaining: 3.43s\n",
      "913:\tlearn: 0.0757039\ttotal: 36s\tremaining: 3.39s\n",
      "914:\tlearn: 0.0756772\ttotal: 36.1s\tremaining: 3.35s\n",
      "915:\tlearn: 0.0756547\ttotal: 36.1s\tremaining: 3.31s\n",
      "916:\tlearn: 0.0756283\ttotal: 36.1s\tremaining: 3.27s\n",
      "917:\tlearn: 0.0756176\ttotal: 36.2s\tremaining: 3.23s\n",
      "918:\tlearn: 0.0755744\ttotal: 36.2s\tremaining: 3.19s\n",
      "919:\tlearn: 0.0755429\ttotal: 36.2s\tremaining: 3.15s\n",
      "920:\tlearn: 0.0755150\ttotal: 36.3s\tremaining: 3.11s\n",
      "921:\tlearn: 0.0755023\ttotal: 36.3s\tremaining: 3.07s\n",
      "922:\tlearn: 0.0754542\ttotal: 36.3s\tremaining: 3.03s\n",
      "923:\tlearn: 0.0754297\ttotal: 36.4s\tremaining: 2.99s\n",
      "924:\tlearn: 0.0753899\ttotal: 36.4s\tremaining: 2.95s\n",
      "925:\tlearn: 0.0753475\ttotal: 36.5s\tremaining: 2.91s\n",
      "926:\tlearn: 0.0753104\ttotal: 36.5s\tremaining: 2.87s\n",
      "927:\tlearn: 0.0752936\ttotal: 36.5s\tremaining: 2.83s\n",
      "928:\tlearn: 0.0752742\ttotal: 36.6s\tremaining: 2.79s\n",
      "929:\tlearn: 0.0752477\ttotal: 36.6s\tremaining: 2.75s\n",
      "930:\tlearn: 0.0752422\ttotal: 36.6s\tremaining: 2.71s\n",
      "931:\tlearn: 0.0752288\ttotal: 36.7s\tremaining: 2.67s\n",
      "932:\tlearn: 0.0752086\ttotal: 36.7s\tremaining: 2.64s\n",
      "933:\tlearn: 0.0751746\ttotal: 36.8s\tremaining: 2.6s\n",
      "934:\tlearn: 0.0751206\ttotal: 36.8s\tremaining: 2.56s\n",
      "935:\tlearn: 0.0750931\ttotal: 36.8s\tremaining: 2.52s\n",
      "936:\tlearn: 0.0750752\ttotal: 36.9s\tremaining: 2.48s\n",
      "937:\tlearn: 0.0750602\ttotal: 36.9s\tremaining: 2.44s\n",
      "938:\tlearn: 0.0750268\ttotal: 36.9s\tremaining: 2.4s\n",
      "939:\tlearn: 0.0749871\ttotal: 37s\tremaining: 2.36s\n",
      "940:\tlearn: 0.0749767\ttotal: 37s\tremaining: 2.32s\n",
      "941:\tlearn: 0.0749509\ttotal: 37.1s\tremaining: 2.28s\n",
      "942:\tlearn: 0.0749291\ttotal: 37.1s\tremaining: 2.24s\n",
      "943:\tlearn: 0.0749122\ttotal: 37.1s\tremaining: 2.2s\n",
      "944:\tlearn: 0.0748785\ttotal: 37.2s\tremaining: 2.16s\n",
      "945:\tlearn: 0.0748489\ttotal: 37.2s\tremaining: 2.12s\n",
      "946:\tlearn: 0.0748314\ttotal: 37.2s\tremaining: 2.08s\n",
      "947:\tlearn: 0.0748085\ttotal: 37.3s\tremaining: 2.04s\n",
      "948:\tlearn: 0.0747959\ttotal: 37.3s\tremaining: 2s\n",
      "949:\tlearn: 0.0747659\ttotal: 37.3s\tremaining: 1.97s\n",
      "950:\tlearn: 0.0747165\ttotal: 37.4s\tremaining: 1.93s\n",
      "951:\tlearn: 0.0746984\ttotal: 37.4s\tremaining: 1.89s\n",
      "952:\tlearn: 0.0746781\ttotal: 37.5s\tremaining: 1.85s\n",
      "953:\tlearn: 0.0746329\ttotal: 37.5s\tremaining: 1.81s\n",
      "954:\tlearn: 0.0746203\ttotal: 37.5s\tremaining: 1.77s\n",
      "955:\tlearn: 0.0745932\ttotal: 37.6s\tremaining: 1.73s\n",
      "956:\tlearn: 0.0745634\ttotal: 37.6s\tremaining: 1.69s\n",
      "957:\tlearn: 0.0745272\ttotal: 37.6s\tremaining: 1.65s\n",
      "958:\tlearn: 0.0744916\ttotal: 37.7s\tremaining: 1.61s\n",
      "959:\tlearn: 0.0744674\ttotal: 37.7s\tremaining: 1.57s\n",
      "960:\tlearn: 0.0744532\ttotal: 37.7s\tremaining: 1.53s\n",
      "961:\tlearn: 0.0744309\ttotal: 37.8s\tremaining: 1.49s\n",
      "962:\tlearn: 0.0743945\ttotal: 37.8s\tremaining: 1.45s\n",
      "963:\tlearn: 0.0743627\ttotal: 37.9s\tremaining: 1.41s\n",
      "964:\tlearn: 0.0743407\ttotal: 37.9s\tremaining: 1.37s\n",
      "965:\tlearn: 0.0743184\ttotal: 37.9s\tremaining: 1.33s\n",
      "966:\tlearn: 0.0743046\ttotal: 38s\tremaining: 1.29s\n",
      "967:\tlearn: 0.0742509\ttotal: 38s\tremaining: 1.26s\n"
     ]
    },
    {
     "name": "stdout",
     "output_type": "stream",
     "text": [
      "968:\tlearn: 0.0742077\ttotal: 38s\tremaining: 1.22s\n",
      "969:\tlearn: 0.0741814\ttotal: 38.1s\tremaining: 1.18s\n",
      "970:\tlearn: 0.0741540\ttotal: 38.1s\tremaining: 1.14s\n",
      "971:\tlearn: 0.0741181\ttotal: 38.1s\tremaining: 1.1s\n",
      "972:\tlearn: 0.0740995\ttotal: 38.2s\tremaining: 1.06s\n",
      "973:\tlearn: 0.0740762\ttotal: 38.2s\tremaining: 1.02s\n",
      "974:\tlearn: 0.0740478\ttotal: 38.2s\tremaining: 981ms\n",
      "975:\tlearn: 0.0740260\ttotal: 38.3s\tremaining: 942ms\n",
      "976:\tlearn: 0.0740033\ttotal: 38.3s\tremaining: 902ms\n",
      "977:\tlearn: 0.0739721\ttotal: 38.4s\tremaining: 863ms\n",
      "978:\tlearn: 0.0739561\ttotal: 38.4s\tremaining: 824ms\n",
      "979:\tlearn: 0.0739405\ttotal: 38.4s\tremaining: 784ms\n",
      "980:\tlearn: 0.0739030\ttotal: 38.5s\tremaining: 745ms\n",
      "981:\tlearn: 0.0738723\ttotal: 38.5s\tremaining: 706ms\n",
      "982:\tlearn: 0.0738331\ttotal: 38.5s\tremaining: 667ms\n",
      "983:\tlearn: 0.0738009\ttotal: 38.6s\tremaining: 627ms\n",
      "984:\tlearn: 0.0737982\ttotal: 38.6s\tremaining: 588ms\n",
      "985:\tlearn: 0.0737785\ttotal: 38.6s\tremaining: 549ms\n",
      "986:\tlearn: 0.0737515\ttotal: 38.7s\tremaining: 509ms\n",
      "987:\tlearn: 0.0737409\ttotal: 38.7s\tremaining: 470ms\n",
      "988:\tlearn: 0.0737288\ttotal: 38.7s\tremaining: 431ms\n",
      "989:\tlearn: 0.0736887\ttotal: 38.8s\tremaining: 392ms\n",
      "990:\tlearn: 0.0736578\ttotal: 38.8s\tremaining: 353ms\n",
      "991:\tlearn: 0.0736507\ttotal: 38.9s\tremaining: 313ms\n",
      "992:\tlearn: 0.0736297\ttotal: 38.9s\tremaining: 274ms\n",
      "993:\tlearn: 0.0736142\ttotal: 38.9s\tremaining: 235ms\n",
      "994:\tlearn: 0.0735633\ttotal: 39s\tremaining: 196ms\n",
      "995:\tlearn: 0.0735424\ttotal: 39s\tremaining: 157ms\n",
      "996:\tlearn: 0.0735057\ttotal: 39s\tremaining: 117ms\n",
      "997:\tlearn: 0.0734894\ttotal: 39.1s\tremaining: 78.3ms\n",
      "998:\tlearn: 0.0734894\ttotal: 39.1s\tremaining: 39.1ms\n",
      "999:\tlearn: 0.0734411\ttotal: 39.1s\tremaining: 0us\n",
      "[LightGBM] [Info] Number of positive: 48414, number of negative: 41294\n",
      "[LightGBM] [Info] Auto-choosing row-wise multi-threading, the overhead of testing was 0.018315 seconds.\n",
      "You can set `force_row_wise=true` to remove the overhead.\n",
      "And if memory is not enough, you can set `force_col_wise=true`.\n",
      "[LightGBM] [Info] Total Bins 917\n",
      "[LightGBM] [Info] Number of data points in the train set: 89708, number of used features: 21\n",
      "[LightGBM] [Info] [binary:BoostFromScore]: pavg=0.539684 -> initscore=0.159072\n",
      "[LightGBM] [Info] Start training from score 0.159072\n",
      "{'Logistic Regression': 0.8621877403604989, 'SVC': 0.9424472460957095, 'KNeighbours': 0.9338193492291743, 'Cat Boost': 0.9587666789285356, 'LGBM': 0.9513761161087516, 'XGB': 0.9550881182490051, 'Decision Tree': 0.9326823395645922, 'Random Forest': 0.9553222084740661}\n",
      "Cat Boost is the best model with accuracy of 0.9587666789285356\n"
     ]
    }
   ],
   "source": [
    "report = {}\n",
    "print('Model list and their corresponding accuracies')\n",
    "for i in range(len(list(models))):\n",
    "    model = list(models.values())[i]\n",
    "    model.fit(X_train,y_train)\n",
    "    prediction = model.predict(X_test)\n",
    "    score = accuracy_score(y_test,prediction)\n",
    "    report[list(models.keys())[i]] = score\n",
    "best_score = max(sorted(list(report.values())))\n",
    "for k,v in report.items():\n",
    "    if v == best_score:\n",
    "        best_model_name = k\n",
    "        break\n",
    "print(report)\n",
    "print(f\"{best_model_name} is the best model with accuracy of {best_score}\")"
   ]
  },
  {
   "cell_type": "markdown",
   "id": "10c17983",
   "metadata": {},
   "source": [
    "### From the result above Best models are Classifier and CatBoostClassifier with 96% accurate\n",
    "### and with least accuracy of 86% is LogisticRegression"
   ]
  },
  {
   "cell_type": "code",
   "execution_count": 52,
   "id": "de6e7366",
   "metadata": {},
   "outputs": [],
   "source": [
    "classifier = models[best_model_name]"
   ]
  },
  {
   "cell_type": "code",
   "execution_count": 53,
   "id": "96590db6",
   "metadata": {},
   "outputs": [],
   "source": [
    "user_input = ['Loyal Customer',54,'Personal Travel','Economy',1930,3,4,3,3,1,3,1,1,3,5,4,4,4,1,41,30]\n",
    "x = np.array([user_input])\n",
    "x[:,0] = encoder_cust.transform(x[:,0])\n",
    "x[:,2] = encoder_type.transform(x[:,2])\n",
    "x[:,3] = encoder_class.transform(x[:,3])"
   ]
  },
  {
   "cell_type": "code",
   "execution_count": 54,
   "id": "8a3f5661",
   "metadata": {},
   "outputs": [
    {
     "name": "stderr",
     "output_type": "stream",
     "text": [
      "C:\\Users\\odhia\\AppData\\Local\\anaconda3\\lib\\site-packages\\sklearn\\base.py:420: UserWarning: X does not have valid feature names, but MinMaxScaler was fitted with feature names\n",
      "  warnings.warn(\n"
     ]
    },
    {
     "data": {
      "text/plain": [
       "array([0], dtype=int64)"
      ]
     },
     "execution_count": 54,
     "metadata": {},
     "output_type": "execute_result"
    }
   ],
   "source": [
    "x = scaler.transform(x)\n",
    "classifier.predict(x)"
   ]
  },
  {
   "cell_type": "code",
   "execution_count": 56,
   "id": "992bd239",
   "metadata": {},
   "outputs": [],
   "source": [
    "import pickle\n",
    "data = {'model':classifier,'encoder_cust':encoder_cust,'encoder_type':encoder_type,'encoder_class':encoder_class,'scaler':scaler}\n",
    "with open ('customerSat.pkl','wb') as file:\n",
    "    pickle.dump(data,file)"
   ]
  },
  {
   "cell_type": "code",
   "execution_count": null,
   "id": "ac1b1dd9",
   "metadata": {},
   "outputs": [],
   "source": []
  }
 ],
 "metadata": {
  "kernelspec": {
   "display_name": "Python 3 (ipykernel)",
   "language": "python",
   "name": "python3"
  },
  "language_info": {
   "codemirror_mode": {
    "name": "ipython",
    "version": 3
   },
   "file_extension": ".py",
   "mimetype": "text/x-python",
   "name": "python",
   "nbconvert_exporter": "python",
   "pygments_lexer": "ipython3",
   "version": "3.10.9"
  }
 },
 "nbformat": 4,
 "nbformat_minor": 5
}
